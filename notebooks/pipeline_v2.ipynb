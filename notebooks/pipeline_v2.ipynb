{
 "cells": [
  {
   "cell_type": "code",
   "execution_count": 4,
   "metadata": {},
   "outputs": [
    {
     "name": "stderr",
     "output_type": "stream",
     "text": [
      "/anaconda3/lib/python3.6/site-packages/sklearn/ensemble/weight_boosting.py:29: DeprecationWarning: numpy.core.umath_tests is an internal NumPy module and should not be imported. It will be removed in a future NumPy release.\n",
      "  from numpy.core.umath_tests import inner1d\n",
      "../src/model/feature_cleaning.py:81: UserWarning: Boolean Series key will be reindexed to match DataFrame index.\n",
      "  SOCPdf = df.dropna(axis='index', subset=['SOCP'])[df.SOCP != '999920']\n"
     ]
    },
    {
     "name": "stdout",
     "output_type": "stream",
     "text": [
      "Number of employed people: 218454\n",
      "Percent employed people: 0.5785711448056677\n",
      "Number of young employed people: 77406\n",
      "Percent young employed people(out of all PUMS): 0.20500827650135733\n",
      "Number of emp cats: 23\n",
      "Number of degree fields present (max 173): 173\n"
     ]
    },
    {
     "name": "stderr",
     "output_type": "stream",
     "text": [
      "/anaconda3/lib/python3.6/site-packages/pandas/core/generic.py:4405: SettingWithCopyWarning: \n",
      "A value is trying to be set on a copy of a slice from a DataFrame.\n",
      "Try using .loc[row_indexer,col_indexer] = value instead\n",
      "\n",
      "See the caveats in the documentation: http://pandas.pydata.org/pandas-docs/stable/indexing.html#indexing-view-versus-copy\n",
      "  self[name] = value\n",
      "../src/model/feature_cleaning.py:151: SettingWithCopyWarning: \n",
      "A value is trying to be set on a copy of a slice from a DataFrame.\n",
      "Try using .loc[row_indexer,col_indexer] = value instead\n",
      "\n",
      "See the caveats in the documentation: http://pandas.pydata.org/pandas-docs/stable/indexing.html#indexing-view-versus-copy\n",
      "  edu_df['SCHL_labels'] = edu_df.SCHL.map(schl_labels)\n",
      "../src/model/feature_cleaning.py:152: SettingWithCopyWarning: \n",
      "A value is trying to be set on a copy of a slice from a DataFrame.\n",
      "Try using .loc[row_indexer,col_indexer] = value instead\n",
      "\n",
      "See the caveats in the documentation: http://pandas.pydata.org/pandas-docs/stable/indexing.html#indexing-view-versus-copy\n",
      "  edu_df['SCHL_ord'] = edu_df.SCHL.astype(int)\n",
      "../src/model/feature_cleaning.py:155: SettingWithCopyWarning: \n",
      "A value is trying to be set on a copy of a slice from a DataFrame.\n",
      "Try using .loc[row_indexer,col_indexer] = value instead\n",
      "\n",
      "See the caveats in the documentation: http://pandas.pydata.org/pandas-docs/stable/indexing.html#indexing-view-versus-copy\n",
      "  edu_df['FOD1P_MAJ'] = edu_df['FOD1P'].str.slice(start=0, stop=2)\n"
     ]
    },
    {
     "name": "stdout",
     "output_type": "stream",
     "text": [
      "before dummies:\n",
      "<class 'pandas.core.frame.DataFrame'>\n",
      "Int64Index: 77406 entries, 0 to 77405\n",
      "Data columns (total 14 columns):\n",
      "SERIALNO            77406 non-null int64\n",
      "SOCP                77406 non-null object\n",
      "MAJ_SOCP            77406 non-null object\n",
      "MAJ_SOCP_labels     77406 non-null object\n",
      "MAJ_SOCP_15         77406 non-null int64\n",
      "FOD1P               77406 non-null object\n",
      "FOD2P               77406 non-null object\n",
      "FOD1P_labels        77406 non-null object\n",
      "FOD2P_labels        77406 non-null object\n",
      "SCHL                77406 non-null object\n",
      "SCHL_labels         77406 non-null object\n",
      "SCHL_ord            77406 non-null int64\n",
      "FOD1P_MAJ           77406 non-null int64\n",
      "FOD1P_MAJ_labels    77406 non-null object\n",
      "dtypes: int64(4), object(10)\n",
      "memory usage: 53.1 MB\n",
      "None\n"
     ]
    }
   ],
   "source": [
    "import pandas as pd\n",
    "import numpy as np\n",
    "import seaborn as sns\n",
    "import matplotlib.pyplot as plt\n",
    "\n",
    "import sys \n",
    "sys.path.append('../')\n",
    "import src.model.feature_cleaning as feature_cleaning\n",
    "\n",
    "pd.set_option('display.max_rows', 500)\n",
    "pd.set_option('display.max_columns', 500)\n",
    "pd.set_option('display.width', 1000)\n",
    "\n",
    "\n",
    "#sklearn models\n",
    "from sklearn.linear_model import LogisticRegression, SGDClassifier\n",
    "from sklearn.ensemble import RandomForestClassifier, GradientBoostingClassifier\n",
    "from sklearn.tree import DecisionTreeClassifier\n",
    "from sklearn.svm import SVC\n",
    "from sklearn.neighbors import KNeighborsClassifier\n",
    "#sklearn other\n",
    "import graphviz \n",
    "from sklearn.model_selection import train_test_split, GridSearchCV\n",
    "from sklearn.metrics import classification_report, confusion_matrix, f1_score, log_loss\n",
    "from mlxtend.plotting import plot_confusion_matrix\n",
    "from sklearn.preprocessing import StandardScaler\n",
    "from sklearn.pipeline import Pipeline\n",
    "\n",
    "\n",
    "\n",
    "df, fieldofdegree_df, SOCP_labels, schl_labels, major_majors, NAICSP_labels_df, MAJ_NAICSP_labels_df = feature_cleaning.load_dfs()\n",
    "\n",
    "youngemp_df = feature_cleaning.clean_that_target(df, SOCP_labels)\n",
    "youngemp_df = feature_cleaning.single_occ_target(youngemp_df)\n",
    "edu_df = feature_cleaning.create_edu_df(youngemp_df, fieldofdegree_df, schl_labels, major_majors)\n",
    "\n",
    "# split the data, choosing only edu cols\n",
    "X = edu_df.drop(columns=[ 'SERIALNO', 'FOD1P', 'FOD2P','SOCP','MAJ_SOCP','MAJ_SOCP_labels', \n",
    "                'MAJ_SOCP_15','FOD1P_labels','FOD2P_labels','SCHL',\n",
    "                'SCHL_labels','FOD1P_MAJ_labels', 'FOD1P_MAJ'])\n",
    "y = edu_df.loc[:,'MAJ_SOCP_15']\n",
    "\n",
    "\n",
    "X_train, X_test, y_train, y_test = train_test_split(X, y,\n",
    "                                                    test_size=0.3, \n",
    "                                                    random_state=42)"
   ]
  },
  {
   "cell_type": "code",
   "execution_count": 9,
   "metadata": {},
   "outputs": [
    {
     "name": "stdout",
     "output_type": "stream",
     "text": [
      "Performing model optimizations...\n",
      "\n",
      "Estimator: SVC\n",
      "Fitting 10 folds for each of 1 candidates, totalling 10 fits\n",
      "[CV]  ................................................................\n",
      "[CV]  ................................................................\n",
      "[CV]  ................................................................\n",
      "[CV]  ................................................................\n",
      "[CV]  ................................................................\n",
      "[CV]  ................................................................\n",
      "[CV]  ................................................................\n",
      "[CV]  ................................................................\n",
      "[CV]  ................................................................\n",
      "[CV]  ................................................................\n",
      "[CV] ....................... , score=0.9680693983019565, total= 5.5min\n",
      "[CV] ....................... , score=0.9677062188595682, total= 5.5min\n",
      "[CV] ....................... , score=0.9688134342129544, total= 5.6min\n"
     ]
    },
    {
     "name": "stderr",
     "output_type": "stream",
     "text": [
      "[Parallel(n_jobs=-1)]: Done   3 out of  10 | elapsed:  9.2min remaining: 21.5min\n"
     ]
    },
    {
     "name": "stdout",
     "output_type": "stream",
     "text": [
      "[CV] ....................... , score=0.9651098393944988, total= 5.8min\n",
      "[CV] ....................... , score=0.9669558796381761, total= 5.9min\n"
     ]
    },
    {
     "name": "stderr",
     "output_type": "stream",
     "text": [
      "[Parallel(n_jobs=-1)]: Done   5 out of  10 | elapsed:  9.4min remaining:  9.4min\n"
     ]
    },
    {
     "name": "stdout",
     "output_type": "stream",
     "text": [
      "[CV] ........................ , score=0.966599003506182, total= 5.9min\n",
      "[CV] ....................... , score=0.9678907547517992, total= 5.9min\n"
     ]
    },
    {
     "name": "stderr",
     "output_type": "stream",
     "text": [
      "[Parallel(n_jobs=-1)]: Done   7 out of  10 | elapsed:  9.4min remaining:  4.0min\n"
     ]
    },
    {
     "name": "stdout",
     "output_type": "stream",
     "text": [
      "[CV] ....................... , score=0.9675216829673371, total= 6.0min\n",
      "[CV] ....................... , score=0.9653072522605647, total= 6.0min\n",
      "[CV] ....................... , score=0.9682539682539683, total= 6.0min\n"
     ]
    },
    {
     "name": "stderr",
     "output_type": "stream",
     "text": [
      "[Parallel(n_jobs=-1)]: Done  10 out of  10 | elapsed:  9.4min finished\n"
     ]
    },
    {
     "name": "stdout",
     "output_type": "stream",
     "text": [
      "Best params: {}\n",
      "Best training f1: 0.967\n",
      "Test set f1 score for best params: 0.393 \n",
      "\n",
      "Estimator: KNeighborsClassifier\n",
      "Fitting 10 folds for each of 10 candidates, totalling 100 fits\n",
      "[CV] clf__n_neighbors=1 ..............................................\n",
      "[CV] clf__n_neighbors=1 ..............................................\n",
      "[CV] clf__n_neighbors=1 ..............................................\n",
      "[CV] clf__n_neighbors=1 ..............................................\n",
      "[CV] clf__n_neighbors=1 ..............................................\n",
      "[CV] clf__n_neighbors=1 ..............................................\n",
      "[CV] clf__n_neighbors=1 ..............................................\n",
      "[CV] clf__n_neighbors=1 ..............................................\n",
      "[CV] clf__n_neighbors=1 ..............................................\n",
      "[CV] clf__n_neighbors=1 ..............................................\n",
      "[CV] clf__n_neighbors=2 ..............................................\n",
      "[CV] clf__n_neighbors=2 ..............................................\n",
      "[CV] ..... clf__n_neighbors=1, score=0.7547517992249493, total= 1.1min\n",
      "[CV] clf__n_neighbors=2 ..............................................\n"
     ]
    },
    {
     "name": "stderr",
     "output_type": "stream",
     "text": [
      "[Parallel(n_jobs=-1)]: Done   1 tasks      | elapsed: 10.0min\n"
     ]
    },
    {
     "name": "stdout",
     "output_type": "stream",
     "text": [
      "[CV] ..... clf__n_neighbors=1, score=0.9544196346189334, total= 1.1min\n",
      "[CV] clf__n_neighbors=2 ..............................................\n",
      "[CV] ..... clf__n_neighbors=1, score=0.9558796381761122, total= 1.1min\n",
      "[CV] clf__n_neighbors=2 ..............................................\n",
      "[CV] ..... clf__n_neighbors=1, score=0.9549732422956265, total= 1.1min\n",
      "[CV] clf__n_neighbors=2 ..............................................\n",
      "[CV] ..... clf__n_neighbors=1, score=0.9579258165713231, total= 1.1min\n",
      "[CV] ..... clf__n_neighbors=1, score=0.9472032490308289, total= 1.1min\n",
      "[CV] clf__n_neighbors=2 ..............................................\n",
      "[CV] ..... clf__n_neighbors=1, score=0.9603174603174603, total= 1.1min\n",
      "[CV] clf__n_neighbors=2 ..............................................\n",
      "[CV] clf__n_neighbors=2 ..............................................\n",
      "[CV] ..... clf__n_neighbors=1, score=0.9453773758996125, total= 1.1min\n",
      "[CV] clf__n_neighbors=2 ..............................................\n",
      "[CV] ..... clf__n_neighbors=1, score=0.9494371655286953, total= 1.1min\n"
     ]
    },
    {
     "name": "stderr",
     "output_type": "stream",
     "text": [
      "[Parallel(n_jobs=-1)]: Done   8 tasks      | elapsed: 10.1min\n"
     ]
    },
    {
     "name": "stdout",
     "output_type": "stream",
     "text": [
      "[CV] ..... clf__n_neighbors=1, score=0.9590254706533776, total= 1.1min\n",
      "[CV] clf__n_neighbors=3 ..............................................\n",
      "[CV] clf__n_neighbors=3 ..............................................\n",
      "[CV] ..... clf__n_neighbors=2, score=0.9664144676139509, total= 1.1min\n",
      "[CV] clf__n_neighbors=3 ..............................................\n",
      "[CV] ..... clf__n_neighbors=2, score=0.9671526111828751, total= 1.1min\n",
      "[CV] clf__n_neighbors=3 ..............................................\n",
      "[CV] ..... clf__n_neighbors=2, score=0.9614319985237129, total= 1.1min\n",
      "[CV] clf__n_neighbors=3 ..............................................\n",
      "[CV] ..... clf__n_neighbors=2, score=0.9664144676139509, total= 1.1min\n",
      "[CV] ..... clf__n_neighbors=2, score=0.9638309651227164, total= 1.1min\n",
      "[CV] clf__n_neighbors=3 ..............................................\n",
      "[CV] clf__n_neighbors=3 ..............................................\n",
      "[CV] ...... clf__n_neighbors=2, score=0.965485418973791, total= 1.1min\n",
      "[CV] clf__n_neighbors=3 ..............................................\n",
      "[CV] ..... clf__n_neighbors=2, score=0.9640155010149474, total= 1.1min\n",
      "[CV] clf__n_neighbors=3 ..............................................\n"
     ]
    },
    {
     "name": "stderr",
     "output_type": "stream",
     "text": [
      "[Parallel(n_jobs=-1)]: Done  17 tasks      | elapsed: 20.4min\n"
     ]
    },
    {
     "name": "stdout",
     "output_type": "stream",
     "text": [
      "[CV] ..... clf__n_neighbors=2, score=0.9652944434188665, total= 1.1min\n",
      "[CV] clf__n_neighbors=3 ..............................................\n",
      "[CV] ..... clf__n_neighbors=2, score=0.9634484031751891, total= 1.1min\n",
      "[CV] clf__n_neighbors=4 ..............................................\n",
      "[CV] ..... clf__n_neighbors=2, score=0.9667774086378738, total= 1.1min\n",
      "[CV] clf__n_neighbors=4 ..............................................\n",
      "[CV] ..... clf__n_neighbors=3, score=0.9625392138770991, total= 1.1min\n",
      "[CV] clf__n_neighbors=4 ..............................................\n",
      "[CV] ...... clf__n_neighbors=3, score=0.966968075290644, total= 1.1min\n",
      "[CV] clf__n_neighbors=4 ..............................................\n",
      "[CV] ..... clf__n_neighbors=3, score=0.9671526111828751, total= 1.1min\n",
      "[CV] clf__n_neighbors=4 ..............................................\n",
      "[CV] ..... clf__n_neighbors=3, score=0.9636464292304854, total= 1.1min\n",
      "[CV] clf__n_neighbors=4 ..............................................\n",
      "[CV] ...... clf__n_neighbors=3, score=0.963639719453673, total= 1.1min\n",
      "[CV] clf__n_neighbors=4 ..............................................\n",
      "[CV] ..... clf__n_neighbors=3, score=0.9654917881527957, total= 1.1min\n",
      "[CV] clf__n_neighbors=4 ..............................................\n",
      "[CV] ..... clf__n_neighbors=3, score=0.9616165344159439, total= 1.1min\n"
     ]
    },
    {
     "name": "stderr",
     "output_type": "stream",
     "text": [
      "[Parallel(n_jobs=-1)]: Done  26 tasks      | elapsed: 30.8min\n"
     ]
    },
    {
     "name": "stdout",
     "output_type": "stream",
     "text": [
      "[CV] clf__n_neighbors=4 ..............................................\n",
      "[CV] ..... clf__n_neighbors=3, score=0.9632637991508215, total= 1.1min\n",
      "[CV] clf__n_neighbors=4 ..............................................\n",
      "[CV] ..... clf__n_neighbors=3, score=0.9621631598375785, total= 1.1min\n",
      "[CV] clf__n_neighbors=5 ..............................................\n",
      "[CV] ..... clf__n_neighbors=3, score=0.9623407790289829, total= 1.1min\n",
      "[CV] clf__n_neighbors=5 ..............................................\n",
      "[CV] ..... clf__n_neighbors=4, score=0.9656763240450268, total= 1.1min\n",
      "[CV] ..... clf__n_neighbors=4, score=0.9636464292304854, total= 1.1min\n",
      "[CV] clf__n_neighbors=5 ..............................................\n",
      "[CV] clf__n_neighbors=5 ..............................................\n",
      "[CV] ..... clf__n_neighbors=4, score=0.9677062188595682, total= 1.1min\n",
      "[CV] clf__n_neighbors=5 ..............................................\n",
      "[CV] ..... clf__n_neighbors=4, score=0.9678907547517992, total= 1.1min\n",
      "[CV] clf__n_neighbors=5 ..............................................\n",
      "[CV] ..... clf__n_neighbors=4, score=0.9673371470751061, total= 1.1min\n",
      "[CV] clf__n_neighbors=5 ..............................................\n",
      "[CV] ..... clf__n_neighbors=4, score=0.9658608599372578, total= 1.1min\n",
      "[CV] clf__n_neighbors=5 ..............................................\n",
      "[CV] ..... clf__n_neighbors=4, score=0.9658545588778147, total= 1.1min\n",
      "[CV] clf__n_neighbors=5 ..............................................\n"
     ]
    },
    {
     "name": "stderr",
     "output_type": "stream",
     "text": [
      "[Parallel(n_jobs=-1)]: Done  37 tasks      | elapsed: 41.2min\n"
     ]
    },
    {
     "name": "stdout",
     "output_type": "stream",
     "text": [
      "[CV] ..... clf__n_neighbors=4, score=0.9673311184939092, total= 1.1min\n",
      "[CV] clf__n_neighbors=5 ..............................................\n",
      "[CV] ..... clf__n_neighbors=4, score=0.9645560273213956, total= 1.1min\n",
      "[CV] clf__n_neighbors=6 ..............................................\n",
      "[CV] ..... clf__n_neighbors=4, score=0.9652944434188665, total= 1.1min\n",
      "[CV] clf__n_neighbors=6 ..............................................\n",
      "[CV] ..... clf__n_neighbors=5, score=0.9677062188595682, total= 1.1min\n",
      "[CV] clf__n_neighbors=6 ..............................................\n",
      "[CV] ..... clf__n_neighbors=5, score=0.9664144676139509, total= 1.1min\n",
      "[CV] clf__n_neighbors=6 ..............................................\n",
      "[CV] ..... clf__n_neighbors=5, score=0.9677062188595682, total= 1.1min\n",
      "[CV] clf__n_neighbors=6 ..............................................\n",
      "[CV] ..... clf__n_neighbors=5, score=0.9693670418896475, total= 1.1min\n",
      "[CV] clf__n_neighbors=6 ..............................................\n",
      "[CV] ..... clf__n_neighbors=5, score=0.9660453958294888, total= 1.1min\n",
      "[CV] clf__n_neighbors=6 ..............................................\n",
      "[CV] ..... clf__n_neighbors=5, score=0.9693670418896475, total= 1.1min\n",
      "[CV] clf__n_neighbors=6 ..............................................\n",
      "[CV] ...... clf__n_neighbors=5, score=0.967515688445921, total= 1.1min\n",
      "[CV] clf__n_neighbors=6 ..............................................\n",
      "[CV] ..... clf__n_neighbors=5, score=0.9677002583979328, total= 1.1min\n",
      "[CV] clf__n_neighbors=6 ..............................................\n"
     ]
    },
    {
     "name": "stderr",
     "output_type": "stream",
     "text": [
      "[Parallel(n_jobs=-1)]: Done  48 tasks      | elapsed: 41.7min\n"
     ]
    },
    {
     "name": "stdout",
     "output_type": "stream",
     "text": [
      "[CV] ..... clf__n_neighbors=5, score=0.9603101347609377, total= 1.1min\n",
      "[CV] clf__n_neighbors=7 ..............................................\n",
      "[CV] ..... clf__n_neighbors=5, score=0.9630791951264538, total= 1.1min\n",
      "[CV] clf__n_neighbors=7 ..............................................\n",
      "[CV] ..... clf__n_neighbors=6, score=0.9664144676139509, total= 1.1min\n",
      "[CV] clf__n_neighbors=7 ..............................................\n",
      "[CV] ..... clf__n_neighbors=6, score=0.9677062188595682, total= 1.1min\n",
      "[CV] clf__n_neighbors=7 ..............................................\n",
      "[CV] ..... clf__n_neighbors=6, score=0.9680752906440303, total= 1.1min\n",
      "[CV] clf__n_neighbors=7 ..............................................\n",
      "[CV] ..... clf__n_neighbors=6, score=0.9688134342129544, total= 1.1min\n",
      "[CV] clf__n_neighbors=7 ..............................................\n",
      "[CV] ..... clf__n_neighbors=6, score=0.9695515777818786, total= 1.1min\n",
      "[CV] clf__n_neighbors=7 ..............................................\n",
      "[CV] ..... clf__n_neighbors=6, score=0.9667774086378738, total= 1.1min\n",
      "[CV] clf__n_neighbors=7 ..............................................\n",
      "[CV] ..... clf__n_neighbors=6, score=0.9662299317217199, total= 1.1min\n",
      "[CV] clf__n_neighbors=7 ..............................................\n",
      "[CV] ..... clf__n_neighbors=6, score=0.9688076781100037, total= 1.1min\n",
      "[CV] clf__n_neighbors=7 ..............................................\n",
      "[CV] ..... clf__n_neighbors=6, score=0.9651098393944988, total= 1.1min\n",
      "[CV] clf__n_neighbors=8 ..............................................\n",
      "[CV] ..... clf__n_neighbors=6, score=0.9619715709802473, total= 1.1min\n",
      "[CV] clf__n_neighbors=8 ..............................................\n",
      "[CV] ..... clf__n_neighbors=7, score=0.9675216829673371, total= 1.1min\n",
      "[CV] clf__n_neighbors=8 ..............................................\n"
     ]
    },
    {
     "name": "stderr",
     "output_type": "stream",
     "text": [
      "[Parallel(n_jobs=-1)]: Done  61 tasks      | elapsed: 62.4min\n"
     ]
    },
    {
     "name": "stdout",
     "output_type": "stream",
     "text": [
      "[CV] ..... clf__n_neighbors=7, score=0.9673371470751061, total= 1.1min\n",
      "[CV] clf__n_neighbors=8 ..............................................\n",
      "[CV] ..... clf__n_neighbors=7, score=0.9688134342129544, total= 1.1min\n",
      "[CV] clf__n_neighbors=8 ..............................................\n",
      "[CV] ..... clf__n_neighbors=7, score=0.9673371470751061, total= 1.1min\n",
      "[CV] clf__n_neighbors=8 ..............................................\n",
      "[CV] ..... clf__n_neighbors=7, score=0.9680752906440303, total= 1.1min\n",
      "[CV] clf__n_neighbors=8 ..............................................\n",
      "[CV] ...... clf__n_neighbors=7, score=0.966968075290644, total= 1.1min\n",
      "[CV] clf__n_neighbors=8 ..............................................\n",
      "[CV] ..... clf__n_neighbors=7, score=0.9667774086378738, total= 1.1min\n",
      "[CV] clf__n_neighbors=8 ..............................................\n",
      "[CV] ..... clf__n_neighbors=7, score=0.9652944434188665, total= 1.1min\n",
      "[CV] clf__n_neighbors=8 ..............................................\n",
      "[CV] ..... clf__n_neighbors=7, score=0.9686231081579919, total= 1.1min\n",
      "[CV] clf__n_neighbors=9 ..............................................\n",
      "[CV] ..... clf__n_neighbors=7, score=0.9632637991508215, total= 1.1min\n",
      "[CV] clf__n_neighbors=9 ..............................................\n",
      "[CV] ...... clf__n_neighbors=8, score=0.966968075290644, total= 1.1min\n",
      "[CV] clf__n_neighbors=9 ..............................................\n",
      "[CV] ..... clf__n_neighbors=8, score=0.9647536445838716, total= 1.1min\n",
      "[CV] clf__n_neighbors=9 ..............................................\n",
      "[CV] ..... clf__n_neighbors=8, score=0.9671526111828751, total= 1.1min\n",
      "[CV] clf__n_neighbors=9 ..............................................\n",
      "[CV] ..... clf__n_neighbors=8, score=0.9673371470751061, total= 1.1min\n",
      "[CV] clf__n_neighbors=9 ..............................................\n"
     ]
    },
    {
     "name": "stderr",
     "output_type": "stream",
     "text": [
      "[Parallel(n_jobs=-1)]: Done  74 tasks      | elapsed: 73.2min\n"
     ]
    },
    {
     "name": "stdout",
     "output_type": "stream",
     "text": [
      "[CV] ..... clf__n_neighbors=8, score=0.9651227163683337, total= 1.1min\n",
      "[CV] clf__n_neighbors=9 ..............................................\n",
      "[CV] ..... clf__n_neighbors=8, score=0.9686288983207234, total= 1.1min\n",
      "[CV] clf__n_neighbors=9 ..............................................\n",
      "[CV] ..... clf__n_neighbors=8, score=0.9660391288298265, total= 1.1min\n",
      "[CV] clf__n_neighbors=9 ..............................................\n",
      "[CV] ..... clf__n_neighbors=8, score=0.9688076781100037, total= 1.1min\n",
      "[CV] clf__n_neighbors=9 ..............................................\n",
      "[CV] ..... clf__n_neighbors=8, score=0.9652944434188665, total= 1.1min\n",
      "[CV] clf__n_neighbors=10 .............................................\n",
      "[CV] ..... clf__n_neighbors=8, score=0.9636330071995569, total= 1.1min\n",
      "[CV] clf__n_neighbors=10 .............................................\n",
      "[CV] ..... clf__n_neighbors=9, score=0.9678907547517992, total= 1.1min\n",
      "[CV] clf__n_neighbors=10 .............................................\n",
      "[CV] ..... clf__n_neighbors=9, score=0.9684443624284923, total= 1.1min\n",
      "[CV] clf__n_neighbors=10 .............................................\n",
      "[CV] ..... clf__n_neighbors=9, score=0.9695515777818786, total= 1.2min\n",
      "[CV] clf__n_neighbors=10 .............................................\n",
      "[CV] ..... clf__n_neighbors=9, score=0.9673371470751061, total= 1.1min\n",
      "[CV] clf__n_neighbors=10 .............................................\n",
      "[CV] ..... clf__n_neighbors=9, score=0.9677062188595682, total= 1.1min\n",
      "[CV] clf__n_neighbors=10 .............................................\n",
      "[CV] ..... clf__n_neighbors=9, score=0.9686288983207234, total= 1.1min\n",
      "[CV] clf__n_neighbors=10 .............................................\n",
      "[CV] ..... clf__n_neighbors=9, score=0.9664082687338501, total= 1.1min\n",
      "[CV] clf__n_neighbors=10 .............................................\n",
      "[CV] ..... clf__n_neighbors=9, score=0.9686231081579919, total= 1.1min\n",
      "[CV] clf__n_neighbors=10 .............................................\n"
     ]
    },
    {
     "name": "stderr",
     "output_type": "stream",
     "text": [
      "[Parallel(n_jobs=-1)]: Done  88 out of 100 | elapsed: 84.0min remaining: 11.5min\n"
     ]
    },
    {
     "name": "stdout",
     "output_type": "stream",
     "text": [
      "[CV] ..... clf__n_neighbors=9, score=0.9643714232970279, total= 1.1min\n",
      "[CV] ..... clf__n_neighbors=9, score=0.9630791951264538, total= 1.1min\n",
      "[CV] .... clf__n_neighbors=10, score=0.9677062188595682, total= 1.1min\n",
      "[CV] .... clf__n_neighbors=10, score=0.9643845727994095, total= 1.1min\n",
      "[CV] .... clf__n_neighbors=10, score=0.9693670418896475, total= 1.2min\n",
      "[CV] .... clf__n_neighbors=10, score=0.9675216829673371, total= 1.1min\n",
      "[CV] .... clf__n_neighbors=10, score=0.9660453958294888, total= 1.2min\n",
      "[CV] .... clf__n_neighbors=10, score=0.9686288983207234, total= 1.2min\n",
      "[CV] .... clf__n_neighbors=10, score=0.9662236987818383, total=  41.7s\n",
      "[CV] ...... clf__n_neighbors=10, score=0.96843853820598, total=  41.4s\n",
      "[CV] .... clf__n_neighbors=10, score=0.9660328595163374, total=  39.0s\n",
      "[CV] .... clf__n_neighbors=10, score=0.9658482554919697, total=  37.2s\n"
     ]
    },
    {
     "name": "stderr",
     "output_type": "stream",
     "text": [
      "[Parallel(n_jobs=-1)]: Done 100 out of 100 | elapsed: 88.4min finished\n"
     ]
    },
    {
     "name": "stdout",
     "output_type": "stream",
     "text": [
      "Best params: {'clf__n_neighbors': 9}\n",
      "Best training f1: 0.967\n",
      "Test set f1 score for best params: 0.401 \n",
      "\n",
      "Estimator: KNeighborsClassifier w/ Scaling\n",
      "Fitting 10 folds for each of 10 candidates, totalling 100 fits\n",
      "[CV] clf__n_neighbors=1 ..............................................\n",
      "[CV] clf__n_neighbors=1 ..............................................\n",
      "[CV] clf__n_neighbors=1 ..............................................\n",
      "[CV] clf__n_neighbors=1 ..............................................\n",
      "[CV] clf__n_neighbors=1 ..............................................\n",
      "[CV] clf__n_neighbors=1 ..............................................\n",
      "[CV] clf__n_neighbors=1 ..............................................\n",
      "[CV] clf__n_neighbors=1 ..............................................\n",
      "[CV] clf__n_neighbors=1 ..............................................\n",
      "[CV] clf__n_neighbors=1 ..............................................\n",
      "[CV] clf__n_neighbors=2 ..............................................\n",
      "[CV] clf__n_neighbors=2 ..............................................\n",
      "[CV] ..... clf__n_neighbors=1, score=0.9568186012179369, total= 5.9min\n",
      "[CV] clf__n_neighbors=2 ..............................................\n"
     ]
    },
    {
     "name": "stderr",
     "output_type": "stream",
     "text": [
      "[Parallel(n_jobs=-1)]: Done   1 tasks      | elapsed: 44.9min\n"
     ]
    },
    {
     "name": "stdout",
     "output_type": "stream",
     "text": [
      "[CV] ..... clf__n_neighbors=1, score=0.9538660269422403, total= 5.9min\n",
      "[CV] clf__n_neighbors=2 ..............................................\n",
      "[CV] ..... clf__n_neighbors=1, score=0.9555186415651532, total= 5.9min\n",
      "[CV] clf__n_neighbors=2 ..............................................\n",
      "[CV] ..... clf__n_neighbors=1, score=0.9547720140299059, total= 6.0min\n",
      "[CV] clf__n_neighbors=2 ..............................................\n",
      "[CV] ..... clf__n_neighbors=1, score=0.9544196346189334, total= 6.0min\n",
      "[CV] clf__n_neighbors=2 ..............................................\n",
      "[CV] ..... clf__n_neighbors=1, score=0.9547887064033954, total= 5.9min\n",
      "[CV] clf__n_neighbors=2 ..............................................\n",
      "[CV] ...... clf__n_neighbors=1, score=0.952556765737493, total= 6.0min\n",
      "[CV] ..... clf__n_neighbors=1, score=0.9553340716131414, total= 6.0min\n",
      "[CV] clf__n_neighbors=2 ..............................................\n",
      "[CV] clf__n_neighbors=2 ..............................................\n"
     ]
    },
    {
     "name": "stderr",
     "output_type": "stream",
     "text": [
      "[Parallel(n_jobs=-1)]: Done   8 tasks      | elapsed: 45.1min\n"
     ]
    },
    {
     "name": "stdout",
     "output_type": "stream",
     "text": [
      "[CV] ..... clf__n_neighbors=1, score=0.9520206680199299, total= 5.9min\n",
      "[CV] clf__n_neighbors=3 ..............................................\n",
      "[CV] ..... clf__n_neighbors=1, score=0.9531278833733161, total= 5.9min\n",
      "[CV] clf__n_neighbors=3 ..............................................\n",
      "[CV] ..... clf__n_neighbors=2, score=0.9660453958294888, total= 5.9min\n",
      "[CV] clf__n_neighbors=3 ..............................................\n",
      "[CV] ..... clf__n_neighbors=2, score=0.9643845727994095, total= 6.0min\n",
      "[CV] clf__n_neighbors=3 ..............................................\n",
      "[CV] ..... clf__n_neighbors=2, score=0.9632773574460233, total= 5.8min\n",
      "[CV] clf__n_neighbors=3 ..............................................\n",
      "[CV] ..... clf__n_neighbors=2, score=0.9627099870777183, total= 5.8min\n",
      "[CV] clf__n_neighbors=3 ..............................................\n",
      "[CV] ...... clf__n_neighbors=2, score=0.961801070308175, total= 5.7min\n",
      "[CV] clf__n_neighbors=3 ..............................................\n",
      "[CV] ..... clf__n_neighbors=2, score=0.9636464292304854, total= 5.8min\n",
      "[CV] clf__n_neighbors=3 ..............................................\n",
      "[CV] ..... clf__n_neighbors=2, score=0.9623546779848681, total= 5.8min\n",
      "[CV] clf__n_neighbors=3 ..............................................\n"
     ]
    },
    {
     "name": "stderr",
     "output_type": "stream",
     "text": [
      "[Parallel(n_jobs=-1)]: Done  17 tasks      | elapsed: 90.5min\n"
     ]
    },
    {
     "name": "stdout",
     "output_type": "stream",
     "text": [
      "[CV] ..... clf__n_neighbors=2, score=0.9627168696936139, total= 5.7min\n",
      "[CV] clf__n_neighbors=3 ..............................................\n",
      "[CV] ..... clf__n_neighbors=2, score=0.9627168696936139, total= 5.8min\n",
      "[CV] clf__n_neighbors=4 ..............................................\n",
      "[CV] ..... clf__n_neighbors=2, score=0.9623407790289829, total= 5.8min\n",
      "[CV] clf__n_neighbors=4 ..............................................\n",
      "[CV] ..... clf__n_neighbors=3, score=0.9638309651227164, total= 5.7min\n",
      "[CV] clf__n_neighbors=4 ..............................................\n",
      "[CV] ...... clf__n_neighbors=3, score=0.961985606200406, total= 5.8min\n",
      "[CV] clf__n_neighbors=4 ..............................................\n",
      "[CV] ..... clf__n_neighbors=3, score=0.9660453958294888, total= 5.3min\n",
      "[CV] clf__n_neighbors=4 ..............................................\n",
      "[CV] ..... clf__n_neighbors=3, score=0.9647536445838716, total= 5.2min\n",
      "[CV] clf__n_neighbors=4 ..............................................\n",
      "[CV] ..... clf__n_neighbors=3, score=0.9638242894056848, total= 5.5min\n",
      "[CV] clf__n_neighbors=4 ..............................................\n",
      "[CV] ..... clf__n_neighbors=3, score=0.9640022152482924, total= 5.4min\n",
      "[CV] clf__n_neighbors=4 ..............................................\n",
      "[CV] ..... clf__n_neighbors=3, score=0.9640155010149474, total= 5.4min\n"
     ]
    },
    {
     "name": "stderr",
     "output_type": "stream",
     "text": [
      "[Parallel(n_jobs=-1)]: Done  26 tasks      | elapsed: 136.0min\n"
     ]
    },
    {
     "name": "stdout",
     "output_type": "stream",
     "text": [
      "[CV] clf__n_neighbors=4 ..............................................\n",
      "[CV] ...... clf__n_neighbors=3, score=0.960863946834041, total= 5.5min\n",
      "[CV] clf__n_neighbors=4 ..............................................\n",
      "[CV] ..... clf__n_neighbors=3, score=0.9640155010149474, total= 5.5min\n",
      "[CV] clf__n_neighbors=5 ..............................................\n",
      "[CV] ..... clf__n_neighbors=3, score=0.9649317091177556, total= 5.5min\n",
      "[CV] clf__n_neighbors=5 ..............................................\n",
      "[CV] ..... clf__n_neighbors=4, score=0.9643845727994095, total= 5.4min\n",
      "[CV] clf__n_neighbors=5 ..............................................\n",
      "[CV] ..... clf__n_neighbors=4, score=0.9645691086916405, total= 5.4min\n",
      "[CV] clf__n_neighbors=5 ..............................................\n",
      "[CV] ...... clf__n_neighbors=4, score=0.966783539398413, total= 5.2min\n",
      "[CV] clf__n_neighbors=5 ..............................................\n",
      "[CV] ..... clf__n_neighbors=4, score=0.9658608599372578, total= 5.2min\n",
      "[CV] clf__n_neighbors=5 ..............................................\n",
      "[CV] ..... clf__n_neighbors=4, score=0.9636464292304854, total= 5.0min\n",
      "[CV] clf__n_neighbors=5 ..............................................\n",
      "[CV] ..... clf__n_neighbors=4, score=0.9651227163683337, total= 5.0min\n",
      "[CV] clf__n_neighbors=5 ..............................................\n",
      "[CV] ..... clf__n_neighbors=4, score=0.9647471391657438, total= 5.3min\n",
      "[CV] clf__n_neighbors=5 ..............................................\n"
     ]
    },
    {
     "name": "stderr",
     "output_type": "stream",
     "text": [
      "[Parallel(n_jobs=-1)]: Done  37 tasks      | elapsed: 181.5min\n"
     ]
    },
    {
     "name": "stdout",
     "output_type": "stream",
     "text": [
      "[CV] ..... clf__n_neighbors=4, score=0.9621561750046151, total= 5.4min\n",
      "[CV] clf__n_neighbors=5 ..............................................\n",
      "[CV] ..... clf__n_neighbors=4, score=0.9643714232970279, total= 5.4min\n",
      "[CV] clf__n_neighbors=6 ..............................................\n",
      "[CV] ..... clf__n_neighbors=4, score=0.9660391288298265, total= 5.4min\n",
      "[CV] clf__n_neighbors=6 ..............................................\n",
      "[CV] ..... clf__n_neighbors=5, score=0.9636464292304854, total= 5.4min\n",
      "[CV] clf__n_neighbors=6 ..............................................\n",
      "[CV] ..... clf__n_neighbors=5, score=0.9642000369071785, total= 5.4min\n",
      "[CV] clf__n_neighbors=6 ..............................................\n",
      "[CV] ..... clf__n_neighbors=5, score=0.9664144676139509, total= 5.2min\n",
      "[CV] clf__n_neighbors=6 ..............................................\n",
      "[CV] ..... clf__n_neighbors=5, score=0.9662299317217199, total= 5.2min\n",
      "[CV] clf__n_neighbors=6 ..............................................\n",
      "[CV] ..... clf__n_neighbors=5, score=0.9643845727994095, total= 5.1min\n",
      "[CV] clf__n_neighbors=6 ..............................................\n",
      "[CV] ..... clf__n_neighbors=5, score=0.9677062188595682, total= 5.1min\n",
      "[CV] clf__n_neighbors=6 ..............................................\n",
      "[CV] ..... clf__n_neighbors=5, score=0.9653008490217793, total= 5.0min\n",
      "[CV] clf__n_neighbors=6 ..............................................\n",
      "[CV] ..... clf__n_neighbors=5, score=0.9669619785898855, total= 5.1min\n",
      "[CV] clf__n_neighbors=6 ..............................................\n"
     ]
    },
    {
     "name": "stderr",
     "output_type": "stream",
     "text": [
      "[Parallel(n_jobs=-1)]: Done  48 tasks      | elapsed: 182.6min\n"
     ]
    },
    {
     "name": "stdout",
     "output_type": "stream",
     "text": [
      "[CV] ..... clf__n_neighbors=5, score=0.9634484031751891, total= 5.3min\n",
      "[CV] clf__n_neighbors=7 ..............................................\n",
      "[CV] ..... clf__n_neighbors=5, score=0.9652944434188665, total= 5.2min\n",
      "[CV] clf__n_neighbors=7 ..............................................\n",
      "[CV] ..... clf__n_neighbors=6, score=0.9664144676139509, total= 5.3min\n",
      "[CV] clf__n_neighbors=7 ..............................................\n",
      "[CV] ..... clf__n_neighbors=6, score=0.9638309651227164, total= 5.3min\n",
      "[CV] clf__n_neighbors=7 ..............................................\n",
      "[CV] ..... clf__n_neighbors=6, score=0.9677062188595682, total= 5.2min\n",
      "[CV] clf__n_neighbors=7 ..............................................\n",
      "[CV] ..... clf__n_neighbors=6, score=0.9662299317217199, total= 5.3min\n",
      "[CV] clf__n_neighbors=7 ..............................................\n",
      "[CV] ..... clf__n_neighbors=6, score=0.9656763240450268, total= 5.2min\n",
      "[CV] clf__n_neighbors=7 ..............................................\n",
      "[CV] ..... clf__n_neighbors=6, score=0.9664144676139509, total= 5.2min\n",
      "[CV] clf__n_neighbors=7 ..............................................\n",
      "[CV] ..... clf__n_neighbors=6, score=0.9658545588778147, total= 5.2min\n",
      "[CV] clf__n_neighbors=7 ..............................................\n",
      "[CV] ..... clf__n_neighbors=6, score=0.9664082687338501, total= 5.2min\n",
      "[CV] clf__n_neighbors=7 ..............................................\n",
      "[CV] ..... clf__n_neighbors=6, score=0.9638176112239247, total= 5.2min\n",
      "[CV] clf__n_neighbors=8 ..............................................\n",
      "[CV] ..... clf__n_neighbors=6, score=0.9660328595163374, total= 5.1min\n",
      "[CV] clf__n_neighbors=8 ..............................................\n",
      "[CV] ..... clf__n_neighbors=7, score=0.9651227163683337, total= 5.2min\n",
      "[CV] clf__n_neighbors=8 ..............................................\n"
     ]
    },
    {
     "name": "stderr",
     "output_type": "stream",
     "text": [
      "[Parallel(n_jobs=-1)]: Done  61 tasks      | elapsed: 273.1min\n"
     ]
    },
    {
     "name": "stdout",
     "output_type": "stream",
     "text": [
      "[CV] ..... clf__n_neighbors=7, score=0.9651227163683337, total= 5.2min\n",
      "[CV] clf__n_neighbors=8 ..............................................\n",
      "[CV] ..... clf__n_neighbors=7, score=0.9688134342129544, total= 5.2min\n",
      "[CV] clf__n_neighbors=8 ..............................................\n",
      "[CV] ..... clf__n_neighbors=7, score=0.9675216829673371, total= 5.2min\n",
      "[CV] clf__n_neighbors=8 ..............................................\n",
      "[CV] ..... clf__n_neighbors=7, score=0.9664144676139509, total= 5.2min\n",
      "[CV] clf__n_neighbors=8 ..............................................\n",
      "[CV] ..... clf__n_neighbors=7, score=0.9669619785898855, total= 5.2min\n",
      "[CV] clf__n_neighbors=8 ..............................................\n",
      "[CV] ..... clf__n_neighbors=7, score=0.9689979701051855, total= 5.3min\n",
      "[CV] clf__n_neighbors=8 ..............................................\n",
      "[CV] ..... clf__n_neighbors=7, score=0.9682539682539683, total= 5.2min\n",
      "[CV] clf__n_neighbors=8 ..............................................\n",
      "[CV] ..... clf__n_neighbors=7, score=0.9652944434188665, total= 5.2min\n",
      "[CV] clf__n_neighbors=9 ..............................................\n",
      "[CV] ..... clf__n_neighbors=7, score=0.9675096917112793, total= 5.2min\n",
      "[CV] clf__n_neighbors=9 ..............................................\n",
      "[CV] ..... clf__n_neighbors=8, score=0.9656763240450268, total= 5.2min\n",
      "[CV] clf__n_neighbors=9 ..............................................\n",
      "[CV] ..... clf__n_neighbors=8, score=0.9627237497693302, total= 5.1min\n",
      "[CV] clf__n_neighbors=9 ..............................................\n",
      "[CV] ..... clf__n_neighbors=8, score=0.9677062188595682, total= 5.2min\n",
      "[CV] clf__n_neighbors=9 ..............................................\n",
      "[CV] ..... clf__n_neighbors=8, score=0.9662299317217199, total= 5.2min\n",
      "[CV] clf__n_neighbors=9 ..............................................\n"
     ]
    },
    {
     "name": "stderr",
     "output_type": "stream",
     "text": [
      "[Parallel(n_jobs=-1)]: Done  74 tasks      | elapsed: 319.4min\n"
     ]
    },
    {
     "name": "stdout",
     "output_type": "stream",
     "text": [
      "[CV] ...... clf__n_neighbors=8, score=0.966968075290644, total= 5.1min\n",
      "[CV] clf__n_neighbors=9 ..............................................\n",
      "[CV] ..... clf__n_neighbors=8, score=0.9662299317217199, total= 5.2min\n",
      "[CV] clf__n_neighbors=9 ..............................................\n",
      "[CV] ..... clf__n_neighbors=8, score=0.9660391288298265, total= 5.2min\n",
      "[CV] clf__n_neighbors=9 ..............................................\n",
      "[CV] ...... clf__n_neighbors=8, score=0.966592838685862, total= 5.2min\n",
      "[CV] clf__n_neighbors=9 ..............................................\n",
      "[CV] ..... clf__n_neighbors=8, score=0.9640022152482924, total= 5.3min\n",
      "[CV] clf__n_neighbors=10 .............................................\n",
      "[CV] ..... clf__n_neighbors=8, score=0.9658482554919697, total= 5.2min\n",
      "[CV] clf__n_neighbors=10 .............................................\n",
      "[CV] ..... clf__n_neighbors=9, score=0.9654917881527957, total= 5.2min\n",
      "[CV] clf__n_neighbors=10 .............................................\n",
      "[CV] ..... clf__n_neighbors=9, score=0.9645691086916405, total= 5.2min\n",
      "[CV] clf__n_neighbors=10 .............................................\n",
      "[CV] ..... clf__n_neighbors=9, score=0.9686288983207234, total= 5.0min\n",
      "[CV] clf__n_neighbors=10 .............................................\n",
      "[CV] ..... clf__n_neighbors=9, score=0.9675216829673371, total= 5.1min\n",
      "[CV] clf__n_neighbors=10 .............................................\n",
      "[CV] ..... clf__n_neighbors=9, score=0.9662299317217199, total= 5.1min\n",
      "[CV] clf__n_neighbors=10 .............................................\n",
      "[CV] ..... clf__n_neighbors=9, score=0.9688134342129544, total= 5.2min\n",
      "[CV] clf__n_neighbors=10 .............................................\n",
      "[CV] ..... clf__n_neighbors=9, score=0.9667774086378738, total= 5.1min\n",
      "[CV] clf__n_neighbors=10 .............................................\n",
      "[CV] ..... clf__n_neighbors=9, score=0.9677002583979328, total= 5.1min\n",
      "[CV] clf__n_neighbors=10 .............................................\n"
     ]
    },
    {
     "name": "stderr",
     "output_type": "stream",
     "text": [
      "[Parallel(n_jobs=-1)]: Done  88 out of 100 | elapsed: 366.2min remaining: 49.9min\n"
     ]
    },
    {
     "name": "stdout",
     "output_type": "stream",
     "text": [
      "[CV] ..... clf__n_neighbors=9, score=0.9645560273213956, total= 5.2min\n",
      "[CV] ..... clf__n_neighbors=9, score=0.9671404836625437, total= 5.1min\n",
      "[CV] .... clf__n_neighbors=10, score=0.9632773574460233, total= 5.1min\n",
      "[CV] .... clf__n_neighbors=10, score=0.9656763240450268, total= 5.1min\n",
      "[CV] .... clf__n_neighbors=10, score=0.9677062188595682, total= 5.1min\n",
      "[CV] .... clf__n_neighbors=10, score=0.9662299317217199, total= 5.1min\n",
      "[CV] .... clf__n_neighbors=10, score=0.9664144676139509, total= 5.0min\n",
      "[CV] .... clf__n_neighbors=10, score=0.9662299317217199, total= 5.1min\n",
      "[CV] .... clf__n_neighbors=10, score=0.9662236987818383, total= 2.9min\n",
      "[CV] .... clf__n_neighbors=10, score=0.9664082687338501, total= 2.9min\n",
      "[CV] .... clf__n_neighbors=10, score=0.9638176112239247, total= 2.9min\n",
      "[CV] .... clf__n_neighbors=10, score=0.9660328595163374, total= 2.5min\n"
     ]
    },
    {
     "name": "stderr",
     "output_type": "stream",
     "text": [
      "[Parallel(n_jobs=-1)]: Done 100 out of 100 | elapsed: 386.1min finished\n"
     ]
    },
    {
     "name": "stdout",
     "output_type": "stream",
     "text": [
      "Best params: {'clf__n_neighbors': 7}\n",
      "Best training f1: 0.967\n",
      "Test set f1 score for best params: 0.381 \n",
      "\n",
      "Classifier with best test set f1: KNeighborsClassifier\n"
     ]
    },
    {
     "ename": "NameError",
     "evalue": "name 'joblib' is not defined",
     "output_type": "error",
     "traceback": [
      "\u001b[0;31m---------------------------------------------------------------------------\u001b[0m",
      "\u001b[0;31mNameError\u001b[0m                                 Traceback (most recent call last)",
      "\u001b[0;32m<ipython-input-9-765b2352c827>\u001b[0m in \u001b[0;36m<module>\u001b[0;34m()\u001b[0m\n\u001b[1;32m    210\u001b[0m \u001b[0;31m# Save best grid search pipeline to file\u001b[0m\u001b[0;34m\u001b[0m\u001b[0;34m\u001b[0m\u001b[0m\n\u001b[1;32m    211\u001b[0m \u001b[0mdump_file\u001b[0m \u001b[0;34m=\u001b[0m \u001b[0;34m'best_model_no_feat_sel_extr_occ_15.pkl'\u001b[0m\u001b[0;34m\u001b[0m\u001b[0m\n\u001b[0;32m--> 212\u001b[0;31m \u001b[0mjoblib\u001b[0m\u001b[0;34m.\u001b[0m\u001b[0mdump\u001b[0m\u001b[0;34m(\u001b[0m\u001b[0mbest_gs\u001b[0m\u001b[0;34m,\u001b[0m \u001b[0mdump_file\u001b[0m\u001b[0;34m,\u001b[0m \u001b[0mcompress\u001b[0m\u001b[0;34m=\u001b[0m\u001b[0;36m1\u001b[0m\u001b[0;34m)\u001b[0m\u001b[0;34m\u001b[0m\u001b[0m\n\u001b[0m\u001b[1;32m    213\u001b[0m \u001b[0mprint\u001b[0m\u001b[0;34m(\u001b[0m\u001b[0;34m'\\nSaved %s grid search pipeline to file: %s'\u001b[0m \u001b[0;34m%\u001b[0m \u001b[0;34m(\u001b[0m\u001b[0mgrid_dict\u001b[0m\u001b[0;34m[\u001b[0m\u001b[0mbest_clf\u001b[0m\u001b[0;34m]\u001b[0m\u001b[0;34m,\u001b[0m \u001b[0mdump_file\u001b[0m\u001b[0;34m)\u001b[0m\u001b[0;34m)\u001b[0m\u001b[0;34m\u001b[0m\u001b[0m\n",
      "\u001b[0;31mNameError\u001b[0m: name 'joblib' is not defined"
     ]
    }
   ],
   "source": [
    "\n",
    "# model pipelines\n",
    "#-----------------------------------\n",
    "#-------------linear\n",
    "pipe_lr = Pipeline([('scl', StandardScaler()),\n",
    "            ('clf', LogisticRegression(random_state=42))])\n",
    "\n",
    "pipe_lr_l2 = Pipeline([('scl', StandardScaler()),\n",
    "            ('clf', LogisticRegression(random_state=42))])\n",
    "\n",
    "pipe_sgd = Pipeline([('scl', StandardScaler()),\n",
    "            ('clf', SGDClassifier(random_state=42))])\n",
    "\n",
    "\n",
    "#-------------trees\n",
    "pipe_dt = Pipeline([('clf', DecisionTreeClassifier(random_state=42))])\n",
    "\n",
    "pipe_rf = Pipeline([('clf', RandomForestClassifier(random_state=42))])\n",
    "\n",
    "pipe_rf_scl = Pipeline([('scl', StandardScaler()),\n",
    "            ('clf', RandomForestClassifier(random_state=42))])\n",
    "\n",
    "pipe_gb = Pipeline([('clf', GradientBoostingClassifier(random_state=42))])\n",
    "\n",
    "\n",
    "#-------------SVM\n",
    "pipe_svm = Pipeline([('scl', StandardScaler()),\n",
    "            ('clf', SVC(random_state=42))])\n",
    "\n",
    "\n",
    "#-------------KNN\n",
    "pipe_knn = Pipeline([('clf', KNeighborsClassifier())])\n",
    "\n",
    "pipe_knn_scl = Pipeline([('scl', StandardScaler()),\n",
    "            ('clf', KNeighborsClassifier())])\n",
    "\n",
    "#-----------------------------------\n",
    "\n",
    "\n",
    "# grid search params\n",
    "param_range = [1, 2, 3, 4, 5, 6, 7, 8, 9, 10]\n",
    "param_range_fl = [1.0, 0.5, 0.1]\n",
    "max_depth = [10,100,1000,10000]\n",
    "alpha_range = [.1, .001, .00001, .000001]\n",
    "gamma_range = [.1, 1, 10]\n",
    "\n",
    "#-------------linear\n",
    "grid_params_lr = [{'clf__penalty': ['l1'],\n",
    "        'clf__C': param_range_fl,\n",
    "        'clf__solver': ['liblinear', ],  #,'saga'\n",
    "        #'clf__multi_class': ['ovr', 'multinomial', 'auto'],\n",
    "        'clf__class_weight': [None, 'balanced']}] \n",
    "\n",
    "grid_params_lr_l2 = [{'clf__penalty': ['l2'],\n",
    "        'clf__C': param_range_fl,\n",
    "        'clf__solver': ['newton-cg', 'lbfgs', 'liblinear'],  #, 'sag'\n",
    "        #'clf__multi_class': ['ovr', 'multinomial', 'auto'],\n",
    "        'clf__class_weight': [None, 'balanced']}]\n",
    "\n",
    "grid_params_sgd = [{'clf__loss': ['hinge', 'log', 'perceptron'],\n",
    "        'clf__alpha': alpha_range,\n",
    "        'clf__penalty': ['l1', 'l2', 'elasticnet'],\n",
    "        'clf__class_weight': [None, 'balanced']}] \n",
    "\n",
    "#-------------trees\n",
    "grid_params_dt = [{'clf__criterion': ['gini', 'entropy'],\n",
    "        'clf__min_samples_leaf': param_range,\n",
    "        'clf__max_depth': max_depth,\n",
    "        'clf__min_samples_split': param_range[1:],\n",
    "        'clf__class_weight': [None, 'balanced']}]\n",
    "\n",
    "grid_params_rf = [{'clf__criterion': ['gini', 'entropy'],\n",
    "        'clf__min_samples_leaf': param_range,\n",
    "        'clf__max_depth': max_depth,\n",
    "        'clf__min_samples_split': param_range[1:],\n",
    "        'clf__class_weight': [None, 'balanced', 'balanced_subsample']}]\n",
    "\n",
    "grid_params_gb = [{'clf__loss': ['deviance', 'exponential'],\n",
    "        'clf__learning_rate': alpha_range,\n",
    "        'clf__n_estimators': max_depth,\n",
    "        'clf__subsample': param_range_fl}]\n",
    "\n",
    "#-------------SVM\n",
    "grid_params_svm = [{#'clf__kernel': ['linear', 'rbf', 'poly'],\n",
    "        #'clf__degree': param_range[1:],\n",
    "        #'clf__gamma': gamma_range,\n",
    "        #'clf__C': gamma_range,\n",
    "        }]#'clf__class_weight': [None, 'balanced']\n",
    "\n",
    "#-------------KNN\n",
    "grid_params_knn = [{'clf__n_neighbors': param_range}]\n",
    "\n",
    "#--------------------------------------------------------------\n",
    "\n",
    "# Construct grid searches\n",
    "jobs = -1\n",
    "verbose = 10\n",
    "\n",
    "#-------------linear\n",
    "gs_lr = GridSearchCV(estimator=pipe_lr,\n",
    "            param_grid=grid_params_lr,\n",
    "            scoring='f1_micro',\n",
    "            cv=10,\n",
    "            n_jobs=jobs,\n",
    "            verbose=verbose) \n",
    "\n",
    "gs_lr_l2 = GridSearchCV(estimator=pipe_lr_l2,\n",
    "            param_grid=grid_params_lr_l2,\n",
    "            scoring='f1_micro',\n",
    "            cv=10,\n",
    "            n_jobs=jobs,\n",
    "            verbose=verbose)\n",
    "\n",
    "gs_sgd = GridSearchCV(estimator=pipe_sgd,\n",
    "            param_grid=grid_params_sgd,\n",
    "            scoring='f1_micro',\n",
    "            cv=10,\n",
    "            verbose=verbose)\n",
    "\n",
    "\n",
    "#-------------trees    \n",
    "gs_dt = GridSearchCV(estimator=pipe_rf,\n",
    "            param_grid=grid_params_dt,\n",
    "            scoring='f1_micro',\n",
    "            cv=10, \n",
    "            n_jobs=jobs,\n",
    "            verbose=verbose)\n",
    "\n",
    "gs_rf = GridSearchCV(estimator=pipe_rf,\n",
    "            param_grid=grid_params_rf,\n",
    "            scoring='f1_micro',\n",
    "            cv=10, \n",
    "            n_jobs=jobs,\n",
    "            verbose=verbose)\n",
    "\n",
    "gs_rf_scl = GridSearchCV(estimator=pipe_rf_scl,\n",
    "            param_grid=grid_params_rf,\n",
    "            scoring='f1_micro',\n",
    "            cv=10, \n",
    "            n_jobs=jobs,\n",
    "            verbose=verbose)\n",
    "\n",
    "gs_gb = GridSearchCV(estimator=pipe_gb,\n",
    "            param_grid=grid_params_gb,\n",
    "            scoring='f1_micro',\n",
    "            cv=10, \n",
    "            verbose=verbose)\n",
    "\n",
    "#-------------SVM\n",
    "\n",
    "gs_svm = GridSearchCV(estimator=pipe_svm,\n",
    "            param_grid=grid_params_svm,\n",
    "            scoring='f1_micro',\n",
    "            cv=10,\n",
    "            n_jobs=jobs,\n",
    "            verbose=verbose)\n",
    "\n",
    "#-------------KNN\n",
    "gs_knn = GridSearchCV(estimator=pipe_knn,\n",
    "            param_grid=grid_params_knn,\n",
    "            scoring='f1_micro',\n",
    "            cv=10,\n",
    "            n_jobs=jobs,\n",
    "            verbose=verbose)\n",
    "\n",
    "gs_knn_scl = GridSearchCV(estimator=pipe_knn_scl,\n",
    "            param_grid=grid_params_knn,\n",
    "            scoring='f1_micro',\n",
    "            cv=10,\n",
    "            n_jobs=jobs,\n",
    "            verbose=verbose)\n",
    "\n",
    "#---------------------------------------------------------------------\n",
    "\n",
    "# List of pipelines for ease of iteration\n",
    "grids = [ gs_svm, gs_knn, gs_knn_scl]\n",
    "\n",
    "# Dictionary of pipelines and classifier types for ease of reference\n",
    "grid_dict = {0:'SVC', 1: 'KNeighborsClassifier', 2:'KNeighborsClassifier w/ Scaling'}\n",
    "\n",
    "# Fit the grid search objects\n",
    "print('Performing model optimizations...')\n",
    "best_f1_micro = 0.0\n",
    "best_clf = 0\n",
    "best_gs = ''\n",
    "for idx, gs in enumerate(grids):\n",
    "    print('\\nEstimator: %s' % grid_dict[idx])\n",
    "    # Fit grid search\n",
    "    gs.fit(X_train, y_train)\n",
    "\n",
    "    # Best params\n",
    "    print('Best params: %s' % gs.best_params_)\n",
    "\n",
    "    # Best training data f1\n",
    "    print('Best training f1: %.3f' % gs.best_score_)\n",
    "\n",
    "    # Predict on test data with best params\n",
    "    y_pred = gs.predict(X_test)\n",
    "\n",
    "    # Test data accuracy of model with best params\n",
    "    print('Test set f1 score for best params: %.3f ' % f1_score(y_test, y_pred))\n",
    "\n",
    "    # Track best (highest test f1) model\n",
    "    if f1_score(y_test, y_pred) > best_f1_micro:\n",
    "        best_f1_micro = f1_score(y_test, y_pred)\n",
    "        best_gs = gs\n",
    "        best_clf = idx\n",
    "print('\\nClassifier with best test set f1: %s' % grid_dict[best_clf])\n",
    "\n",
    "# Save best grid search pipeline to file\n",
    "dump_file = 'best_model_no_feat_sel_extr_occ_15.pkl'\n",
    "joblib.dump(best_gs, dump_file, compress=1)\n",
    "print('\\nSaved %s grid search pipeline to file: %s' % (grid_dict[best_clf], dump_file))"
   ]
  },
  {
   "cell_type": "code",
   "execution_count": null,
   "metadata": {},
   "outputs": [],
   "source": []
  }
 ],
 "metadata": {
  "kernelspec": {
   "display_name": "Python 3",
   "language": "python",
   "name": "python3"
  },
  "language_info": {
   "codemirror_mode": {
    "name": "ipython",
    "version": 3
   },
   "file_extension": ".py",
   "mimetype": "text/x-python",
   "name": "python",
   "nbconvert_exporter": "python",
   "pygments_lexer": "ipython3",
   "version": "3.6.5"
  },
  "latex_envs": {
   "LaTeX_envs_menu_present": true,
   "autoclose": true,
   "autocomplete": true,
   "bibliofile": "biblio.bib",
   "cite_by": "apalike",
   "current_citInitial": 1,
   "eqLabelWithNumbers": true,
   "eqNumInitial": 1,
   "hotkeys": {
    "equation": "Ctrl-E",
    "itemize": "Ctrl-I"
   },
   "labels_anchors": false,
   "latex_user_defs": false,
   "report_style_numbering": false,
   "user_envs_cfg": false
  },
  "varInspector": {
   "cols": {
    "lenName": 16,
    "lenType": 16,
    "lenVar": 40
   },
   "kernels_config": {
    "python": {
     "delete_cmd_postfix": "",
     "delete_cmd_prefix": "del ",
     "library": "var_list.py",
     "varRefreshCmd": "print(var_dic_list())"
    },
    "r": {
     "delete_cmd_postfix": ") ",
     "delete_cmd_prefix": "rm(",
     "library": "var_list.r",
     "varRefreshCmd": "cat(var_dic_list()) "
    }
   },
   "types_to_exclude": [
    "module",
    "function",
    "builtin_function_or_method",
    "instance",
    "_Feature"
   ],
   "window_display": false
  }
 },
 "nbformat": 4,
 "nbformat_minor": 2
}
