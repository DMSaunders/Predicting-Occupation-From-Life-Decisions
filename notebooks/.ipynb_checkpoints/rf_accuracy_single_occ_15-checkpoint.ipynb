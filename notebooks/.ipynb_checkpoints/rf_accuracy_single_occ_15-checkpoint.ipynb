{
 "cells": [
  {
   "cell_type": "code",
   "execution_count": 7,
   "metadata": {},
   "outputs": [],
   "source": [
    "import pandas as pd\n",
    "import numpy as np\n",
    "#import seaborn as sns\n",
    "#import matplotlib.pyplot as plt\n",
    "import joblib\n",
    "\n",
    "# import sys \n",
    "# sys.path.append('../')\n",
    "#import feature_cleaning as feature_cleaning\n",
    "\n",
    "pd.set_option('display.max_rows', 500)\n",
    "pd.set_option('display.max_columns', 500)\n",
    "pd.set_option('display.width', 1000)\n",
    "\n",
    "\n",
    "#sklearn models\n",
    "from sklearn.linear_model import LogisticRegression, SGDClassifier\n",
    "from sklearn.ensemble import RandomForestClassifier, GradientBoostingClassifier\n",
    "from sklearn.tree import DecisionTreeClassifier\n",
    "from sklearn.svm import SVC\n",
    "from sklearn.neighbors import KNeighborsClassifier\n",
    "#sklearn other\n",
    "#import graphviz \n",
    "from sklearn.model_selection import train_test_split, GridSearchCV\n",
    "from sklearn.metrics import classification_report, confusion_matrix, f1_score, log_loss, accuracy_score\n",
    "#from mlxtend.plotting import plot_confusion_matrix\n",
    "from sklearn.preprocessing import StandardScaler\n",
    "from sklearn.pipeline import Pipeline"
   ]
  },
  {
   "cell_type": "code",
   "execution_count": 26,
   "metadata": {},
   "outputs": [
    {
     "name": "stdout",
     "output_type": "stream",
     "text": [
      "Performing model optimizations...\n",
      "\n",
      "Estimator: rf\n",
      "Fitting 10 folds for each of 1 candidates, totalling 10 fits\n"
     ]
    },
    {
     "name": "stderr",
     "output_type": "stream",
     "text": [
      "[Parallel(n_jobs=-1)]: Done  10 out of  10 | elapsed:    5.1s finished\n"
     ]
    },
    {
     "name": "stdout",
     "output_type": "stream",
     "text": [
      "Best params: {'clf__class_weight': 'balanced', 'clf__criterion': 'entropy', 'clf__max_depth': 1000, 'clf__min_samples_leaf': 1, 'clf__min_samples_split': 10, 'clf__n_estimators': 10}\n",
      "Best training f1: 0.881\n",
      "test accuracy 0.8766686762552752:\n",
      "Test set f1 score for best params: 0.263 \n",
      "\n",
      "Classifier with best test set f1: rf\n",
      "\n",
      "Saved rf grid search pipeline to file: best_model_no_feat_sel_extr_occ_15.pkl\n"
     ]
    }
   ],
   "source": [
    "edu_df = pd.read_csv('edu_df_15.csv')\n",
    "\n",
    "# split the data, choosing only edu cols\n",
    "X = edu_df.drop(columns=[ 'Unnamed: 0', 'SERIALNO', 'FOD1P', 'FOD2P','SOCP','MAJ_SOCP','MAJ_SOCP_labels', \n",
    "                'MAJ_SOCP_15','FOD1P_labels','FOD2P_labels','SCHL',\n",
    "                'SCHL_labels','FOD1P_MAJ_labels', 'FOD1P_MAJ'])\n",
    "y = edu_df.loc[:,'MAJ_SOCP_15']\n",
    "\n",
    "X_train, X_test, y_train, y_test = train_test_split(X, y,\n",
    "                                                    test_size=0.3, \n",
    "                                                    random_state=42)\n",
    "\n",
    "\n",
    "# model pipelines\n",
    "#-----------------------------------\n",
    "#-------------linear\n",
    "pipe_lr = Pipeline([('scl', StandardScaler()),\n",
    "            ('clf', LogisticRegression(random_state=42))])\n",
    "\n",
    "pipe_lr_l2 = Pipeline([('scl', StandardScaler()),\n",
    "            ('clf', LogisticRegression(random_state=42))])\n",
    "\n",
    "pipe_sgd = Pipeline([('scl', StandardScaler()),\n",
    "            ('clf', SGDClassifier(random_state=42))])\n",
    "\n",
    "\n",
    "#-------------trees\n",
    "pipe_dt = Pipeline([('clf', DecisionTreeClassifier(random_state=42))])\n",
    "\n",
    "pipe_rf = Pipeline([('clf', RandomForestClassifier(random_state=42))])\n",
    "\n",
    "pipe_rf_scl = Pipeline([('scl', StandardScaler()),\n",
    "            ('clf', RandomForestClassifier(random_state=42))])\n",
    "\n",
    "pipe_gb = Pipeline([('clf', GradientBoostingClassifier(random_state=42))])\n",
    "\n",
    "\n",
    "#-------------SVM\n",
    "pipe_svm = Pipeline([('scl', StandardScaler()),\n",
    "            ('clf', SVC(random_state=42))])\n",
    "\n",
    "\n",
    "#-------------KNN\n",
    "pipe_knn = Pipeline([('clf', KNeighborsClassifier())])\n",
    "\n",
    "pipe_knn_scl = Pipeline([('scl', StandardScaler()),\n",
    "            ('clf', KNeighborsClassifier())])\n",
    "\n",
    "#-----------------------------------\n",
    "\n",
    "\n",
    "# grid search params\n",
    "param_range = [1, 2, 3, 4, 5, 6, 7, 8, 9, 10]\n",
    "param_range_fl = [1.0, 0.5, 0.1]\n",
    "max_depth = [10,100,1000,10000]\n",
    "max_depth2 = [10,100,1000]\n",
    "alpha_range = [.1, .001, .00001, .000001]\n",
    "gamma_range = [.1, 1, 10]\n",
    "\n",
    "#-------------linear\n",
    "grid_params_lr = [{'clf__penalty': ['l1'],\n",
    "        'clf__C': param_range_fl,\n",
    "        'clf__solver': ['liblinear', ],  #,'saga'\n",
    "        #'clf__multi_class': ['ovr', 'multinomial', 'auto'],\n",
    "        'clf__class_weight': [None, 'balanced']}] \n",
    "\n",
    "grid_params_lr_l2 = [{'clf__penalty': ['l2'],\n",
    "        'clf__C': param_range_fl,\n",
    "        'clf__solver': ['newton-cg', 'lbfgs', 'liblinear'],  #, 'sag'\n",
    "        #'clf__multi_class': ['ovr', 'multinomial', 'auto'],\n",
    "        'clf__class_weight': [None, 'balanced']}]\n",
    "\n",
    "grid_params_sgd = [{'clf__loss': ['hinge', 'log', 'perceptron'],\n",
    "        'clf__alpha': alpha_range,\n",
    "        'clf__penalty': ['l1', 'l2', 'elasticnet'],\n",
    "        'clf__class_weight': [None, 'balanced']}] \n",
    "\n",
    "#-------------trees\n",
    "grid_params_dt = [{'clf__criterion': ['gini', 'entropy'],\n",
    "        'clf__min_samples_leaf': param_range,\n",
    "        'clf__max_depth': max_depth,\n",
    "        'clf__min_samples_split': param_range[1:],\n",
    "        'clf__class_weight': [None, 'balanced']}]\n",
    "\n",
    "grid_params_rf = [{'clf__criterion': ['entropy'],\n",
    "        'clf__min_samples_leaf': [1],\n",
    "        'clf__max_depth': [1000],\n",
    "        'clf__min_samples_split': [10],\n",
    "        'clf__class_weight': [None],\n",
    "        'clf__n_estimators':[10]}]\n",
    "\n",
    "#<3\n",
    "grid_params_gb = [{'clf__loss': ['deviance', 'exponential'],\n",
    "        'clf__learning_rate': alpha_range,\n",
    "        'clf__n_estimators': max_depth2,\n",
    "        'clf__subsample': param_range_fl}]\n",
    "\n",
    "#-------------SVM\n",
    "grid_params_svm = [{'clf__kernel': ['linear', 'rbf', 'poly'],\n",
    "        'clf__degree': param_range[1:],\n",
    "        'clf__gamma': gamma_range,\n",
    "        'clf__C': gamma_range,\n",
    "        'clf__class_weight': [None, 'balanced']}]\n",
    "\n",
    "#-------------KNN\n",
    "grid_params_knn = [{'clf__n_neighbors': param_range}]\n",
    "\n",
    "#--------------------------------------------------------------\n",
    "\n",
    "# Construct grid searches\n",
    "jobs = -1\n",
    "verbose = 1\n",
    "\n",
    "#-------------linear\n",
    "gs_lr = GridSearchCV(estimator=pipe_lr,\n",
    "            param_grid=grid_params_lr,\n",
    "            scoring='f1_micro',\n",
    "            cv=10,\n",
    "            n_jobs=jobs,\n",
    "            verbose=verbose) \n",
    "\n",
    "gs_lr_l2 = GridSearchCV(estimator=pipe_lr_l2,\n",
    "            param_grid=grid_params_lr_l2,\n",
    "            scoring='f1_micro',\n",
    "            cv=10,\n",
    "            n_jobs=jobs,\n",
    "            verbose=verbose)\n",
    "\n",
    "gs_sgd = GridSearchCV(estimator=pipe_sgd,\n",
    "            param_grid=grid_params_sgd,\n",
    "            scoring='f1_micro',\n",
    "            cv=10,\n",
    "            verbose=verbose)\n",
    "\n",
    "\n",
    "#-------------trees    \n",
    "gs_dt = GridSearchCV(estimator=pipe_rf,\n",
    "            param_grid=grid_params_dt,\n",
    "            scoring='f1_micro',\n",
    "            cv=10, \n",
    "            n_jobs=jobs,\n",
    "            verbose=verbose)\n",
    "\n",
    "gs_rf = GridSearchCV(estimator=pipe_rf,\n",
    "            param_grid=grid_params_rf,\n",
    "            scoring='f1_micro',\n",
    "            cv=10, \n",
    "            n_jobs=jobs,\n",
    "            verbose=verbose)\n",
    "\n",
    "gs_rf_scl = GridSearchCV(estimator=pipe_rf_scl,\n",
    "            param_grid=grid_params_rf,\n",
    "            scoring='f1_micro',\n",
    "            cv=10, \n",
    "            n_jobs=jobs,\n",
    "            verbose=verbose)\n",
    "\n",
    "gs_gb = GridSearchCV(estimator=pipe_gb,\n",
    "            param_grid=grid_params_gb,\n",
    "            scoring='f1_micro',\n",
    "            cv=10, \n",
    "            verbose=verbose)\n",
    "\n",
    "#-------------SVM\n",
    "\n",
    "gs_svm = GridSearchCV(estimator=pipe_svm,\n",
    "            param_grid=grid_params_svm,\n",
    "            scoring='f1_micro',\n",
    "            cv=10,\n",
    "            n_jobs=jobs,\n",
    "            verbose=verbose)\n",
    "\n",
    "#-------------KNN\n",
    "gs_knn = GridSearchCV(estimator=pipe_knn,\n",
    "            param_grid=grid_params_knn,\n",
    "            scoring='f1_micro',\n",
    "            cv=10,\n",
    "            n_jobs=jobs,\n",
    "            verbose=verbose)\n",
    "\n",
    "gs_knn_scl = GridSearchCV(estimator=pipe_knn_scl,\n",
    "            param_grid=grid_params_knn,\n",
    "            scoring='f1_micro',\n",
    "            cv=10,\n",
    "            n_jobs=jobs,\n",
    "            verbose=verbose)\n",
    "\n",
    "#---------------------------------------------------------------------\n",
    "\n",
    "# List of pipelines for ease of iteration\n",
    "grids = [ gs_rf]\n",
    "\n",
    "# Dictionary of pipelines and classifier types for ease of reference\n",
    "grid_dict = {0:'rf'}\n",
    "\n",
    "# Fit the grid search objects\n",
    "print('Performing model optimizations...')\n",
    "best_f1_micro = 0.0\n",
    "best_clf = 0\n",
    "best_gs = ''\n",
    "for idx, gs in enumerate(grids):\n",
    "    print('\\nEstimator: %s' % grid_dict[idx])\n",
    "    # Fit grid search\n",
    "    gs.fit(X_train, y_train)\n",
    "\n",
    "    # Best params\n",
    "    print('Best params: %s' % gs.best_params_)\n",
    "\n",
    "    # Best training data f1\n",
    "    print('Best training f1: %.3f' % gs.best_score_)\n",
    "\n",
    "    # Predict on test data with best params\n",
    "    y_pred = gs.predict(X_test)\n",
    "\n",
    "    #accuracy\n",
    "    print('test accuracy {}:'.format( accuracy_score(y_test, y_pred)))\n",
    "\n",
    "    # Test data accuracy of model with best params\n",
    "    print('Test set f1 score for best params: %.3f ' % f1_score(y_test, y_pred))\n",
    "\n",
    "    # Track best (highest test f1) model\n",
    "    if f1_score(y_test, y_pred) > best_f1_micro:\n",
    "        best_f1_micro = f1_score(y_test, y_pred)\n",
    "        best_gs = gs\n",
    "        best_clf = idx\n",
    "print('\\nClassifier with best test set f1: %s' % grid_dict[best_clf])\n",
    "\n",
    "# Save best grid search pipeline to file\n",
    "dump_file = 'best_model_no_feat_sel_extr_occ_15.pkl'\n",
    "joblib.dump(best_gs, dump_file, compress=1)\n",
    "print('\\nSaved %s grid search pipeline to file: %s' % (grid_dict[best_clf], dump_file))"
   ]
  },
  {
   "cell_type": "code",
   "execution_count": 10,
   "metadata": {},
   "outputs": [
    {
     "data": {
      "text/plain": [
       "0.035914661154584415"
      ]
     },
     "execution_count": 10,
     "metadata": {},
     "output_type": "execute_result"
    }
   ],
   "source": [
    "1-0.9640853388454156\n"
   ]
  },
  {
   "cell_type": "code",
   "execution_count": 11,
   "metadata": {},
   "outputs": [
    {
     "data": {
      "text/plain": [
       "0.0025411360490810164"
      ]
     },
     "execution_count": 11,
     "metadata": {},
     "output_type": "execute_result"
    }
   ],
   "source": [
    "0.9666264748944966-0.9640853388454156"
   ]
  },
  {
   "cell_type": "code",
   "execution_count": 12,
   "metadata": {},
   "outputs": [
    {
     "data": {
      "text/plain": [
       "0.07075483848068122"
      ]
     },
     "execution_count": 12,
     "metadata": {},
     "output_type": "execute_result"
    }
   ],
   "source": [
    "0.0025411360490810164/0.035914661154584415"
   ]
  },
  {
   "cell_type": "code",
   "execution_count": null,
   "metadata": {},
   "outputs": [],
   "source": []
  }
 ],
 "metadata": {
  "kernelspec": {
   "display_name": "Python 3",
   "language": "python",
   "name": "python3"
  },
  "language_info": {
   "codemirror_mode": {
    "name": "ipython",
    "version": 3
   },
   "file_extension": ".py",
   "mimetype": "text/x-python",
   "name": "python",
   "nbconvert_exporter": "python",
   "pygments_lexer": "ipython3",
   "version": "3.6.5"
  },
  "latex_envs": {
   "LaTeX_envs_menu_present": true,
   "autoclose": true,
   "autocomplete": true,
   "bibliofile": "biblio.bib",
   "cite_by": "apalike",
   "current_citInitial": 1,
   "eqLabelWithNumbers": true,
   "eqNumInitial": 1,
   "hotkeys": {
    "equation": "Ctrl-E",
    "itemize": "Ctrl-I"
   },
   "labels_anchors": false,
   "latex_user_defs": false,
   "report_style_numbering": false,
   "user_envs_cfg": false
  },
  "varInspector": {
   "cols": {
    "lenName": 16,
    "lenType": 16,
    "lenVar": 40
   },
   "kernels_config": {
    "python": {
     "delete_cmd_postfix": "",
     "delete_cmd_prefix": "del ",
     "library": "var_list.py",
     "varRefreshCmd": "print(var_dic_list())"
    },
    "r": {
     "delete_cmd_postfix": ") ",
     "delete_cmd_prefix": "rm(",
     "library": "var_list.r",
     "varRefreshCmd": "cat(var_dic_list()) "
    }
   },
   "types_to_exclude": [
    "module",
    "function",
    "builtin_function_or_method",
    "instance",
    "_Feature"
   ],
   "window_display": false
  }
 },
 "nbformat": 4,
 "nbformat_minor": 2
}
