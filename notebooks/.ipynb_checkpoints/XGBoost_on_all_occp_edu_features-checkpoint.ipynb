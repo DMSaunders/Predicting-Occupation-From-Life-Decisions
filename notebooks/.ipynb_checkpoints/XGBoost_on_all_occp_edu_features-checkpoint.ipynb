{
 "cells": [
  {
   "cell_type": "code",
   "execution_count": 1,
   "metadata": {},
   "outputs": [],
   "source": [
    "import pandas as pd\n",
    "import numpy as np\n",
    "#import seaborn as sns\n",
    "import matplotlib.pyplot as plt\n",
    "import joblib\n",
    "import xgboost as xgb\n",
    "\n",
    "# import sys \n",
    "# sys.path.append('../')\n",
    "#import feature_cleaning as feature_cleaning\n",
    "\n",
    "pd.set_option('display.max_rows', 500)\n",
    "pd.set_option('display.max_columns', 500)\n",
    "pd.set_option('display.width', 1000)\n",
    "\n",
    "\n",
    "#sklearn models\n",
    "from sklearn.linear_model import LogisticRegression, SGDClassifier\n",
    "from sklearn.ensemble import RandomForestClassifier, GradientBoostingClassifier\n",
    "from sklearn.tree import DecisionTreeClassifier\n",
    "from sklearn.svm import SVC\n",
    "from sklearn.neighbors import KNeighborsClassifier\n",
    "#sklearn other\n",
    "#import graphviz \n",
    "from sklearn.model_selection import train_test_split, GridSearchCV\n",
    "from sklearn.metrics import classification_report, confusion_matrix, f1_score, log_loss, accuracy_score, roc_auc_score, auc, roc_curve\n",
    "#from mlxtend.plotting import plot_confusion_matrix\n",
    "from sklearn.preprocessing import StandardScaler\n",
    "from sklearn.pipeline import Pipeline\n",
    "from sklearn.ensemble.partial_dependence import partial_dependence, plot_partial_dependence"
   ]
  },
  {
   "cell_type": "code",
   "execution_count": 2,
   "metadata": {},
   "outputs": [
    {
     "data": {
      "text/plain": [
       "0    17\n",
       "1    13\n",
       "2    13\n",
       "3    39\n",
       "4    43\n",
       "Name: MAJ_SOCP, dtype: int64"
      ]
     },
     "execution_count": 2,
     "metadata": {},
     "output_type": "execute_result"
    }
   ],
   "source": [
    "edu_df = pd.read_csv('edu_df_15.csv')\n",
    "\n",
    "# split the data, choosing only edu cols\n",
    "X = edu_df.drop(columns=[ 'Unnamed: 0', 'SERIALNO', 'FOD1P', 'FOD2P','SOCP','MAJ_SOCP','MAJ_SOCP_labels', \n",
    "                'MAJ_SOCP_15','FOD1P_labels','FOD2P_labels','SCHL',\n",
    "                'SCHL_labels','FOD1P_MAJ_labels', 'FOD1P_MAJ'])\n",
    "y = edu_df.loc[:,'MAJ_SOCP']\n",
    "\n",
    "y.head()"
   ]
  },
  {
   "cell_type": "code",
   "execution_count": 3,
   "metadata": {},
   "outputs": [],
   "source": [
    "X_train, X_test, y_train, y_test = train_test_split(X, y,test_size=0.3, random_state=42)"
   ]
  },
  {
   "cell_type": "code",
   "execution_count": 4,
   "metadata": {},
   "outputs": [
    {
     "name": "stdout",
     "output_type": "stream",
     "text": [
      "Performing model optimizations...\n",
      "\n",
      "Estimator: xgb\n",
      "Fitting 10 folds for each of 1 candidates, totalling 10 fits\n",
      "[CV]  ................................................................\n"
     ]
    },
    {
     "name": "stderr",
     "output_type": "stream",
     "text": [
      "/home/ubuntu/anaconda3/lib/python3.6/site-packages/sklearn/preprocessing/label.py:151: DeprecationWarning: The truth value of an empty array is ambiguous. Returning False, but in future this will result in an error. Use `array.size > 0` to check that an array is not empty.\n",
      "  if diff:\n",
      "/home/ubuntu/anaconda3/lib/python3.6/site-packages/sklearn/preprocessing/label.py:151: DeprecationWarning: The truth value of an empty array is ambiguous. Returning False, but in future this will result in an error. Use `array.size > 0` to check that an array is not empty.\n",
      "  if diff:\n",
      "[Parallel(n_jobs=1)]: Done   1 out of   1 | elapsed: 13.2min remaining:    0.0s\n"
     ]
    },
    {
     "name": "stdout",
     "output_type": "stream",
     "text": [
      "[CV] ................................................. , total=13.0min\n",
      "[CV]  ................................................................\n"
     ]
    },
    {
     "name": "stderr",
     "output_type": "stream",
     "text": [
      "/home/ubuntu/anaconda3/lib/python3.6/site-packages/sklearn/preprocessing/label.py:151: DeprecationWarning: The truth value of an empty array is ambiguous. Returning False, but in future this will result in an error. Use `array.size > 0` to check that an array is not empty.\n",
      "  if diff:\n",
      "/home/ubuntu/anaconda3/lib/python3.6/site-packages/sklearn/preprocessing/label.py:151: DeprecationWarning: The truth value of an empty array is ambiguous. Returning False, but in future this will result in an error. Use `array.size > 0` to check that an array is not empty.\n",
      "  if diff:\n"
     ]
    },
    {
     "name": "stdout",
     "output_type": "stream",
     "text": [
      "[CV] ................................................. , total=13.1min\n",
      "[CV]  ................................................................\n"
     ]
    },
    {
     "name": "stderr",
     "output_type": "stream",
     "text": [
      "/home/ubuntu/anaconda3/lib/python3.6/site-packages/sklearn/preprocessing/label.py:151: DeprecationWarning: The truth value of an empty array is ambiguous. Returning False, but in future this will result in an error. Use `array.size > 0` to check that an array is not empty.\n",
      "  if diff:\n",
      "/home/ubuntu/anaconda3/lib/python3.6/site-packages/sklearn/preprocessing/label.py:151: DeprecationWarning: The truth value of an empty array is ambiguous. Returning False, but in future this will result in an error. Use `array.size > 0` to check that an array is not empty.\n",
      "  if diff:\n"
     ]
    },
    {
     "name": "stdout",
     "output_type": "stream",
     "text": [
      "[CV] ................................................. , total=13.0min\n",
      "[CV]  ................................................................\n"
     ]
    },
    {
     "name": "stderr",
     "output_type": "stream",
     "text": [
      "/home/ubuntu/anaconda3/lib/python3.6/site-packages/sklearn/preprocessing/label.py:151: DeprecationWarning: The truth value of an empty array is ambiguous. Returning False, but in future this will result in an error. Use `array.size > 0` to check that an array is not empty.\n",
      "  if diff:\n",
      "/home/ubuntu/anaconda3/lib/python3.6/site-packages/sklearn/preprocessing/label.py:151: DeprecationWarning: The truth value of an empty array is ambiguous. Returning False, but in future this will result in an error. Use `array.size > 0` to check that an array is not empty.\n",
      "  if diff:\n"
     ]
    },
    {
     "name": "stdout",
     "output_type": "stream",
     "text": [
      "[CV] ................................................. , total=12.9min\n",
      "[CV]  ................................................................\n"
     ]
    },
    {
     "name": "stderr",
     "output_type": "stream",
     "text": [
      "/home/ubuntu/anaconda3/lib/python3.6/site-packages/sklearn/preprocessing/label.py:151: DeprecationWarning: The truth value of an empty array is ambiguous. Returning False, but in future this will result in an error. Use `array.size > 0` to check that an array is not empty.\n",
      "  if diff:\n",
      "/home/ubuntu/anaconda3/lib/python3.6/site-packages/sklearn/preprocessing/label.py:151: DeprecationWarning: The truth value of an empty array is ambiguous. Returning False, but in future this will result in an error. Use `array.size > 0` to check that an array is not empty.\n",
      "  if diff:\n"
     ]
    },
    {
     "name": "stdout",
     "output_type": "stream",
     "text": [
      "[CV] ................................................. , total=12.9min\n",
      "[CV]  ................................................................\n"
     ]
    },
    {
     "name": "stderr",
     "output_type": "stream",
     "text": [
      "/home/ubuntu/anaconda3/lib/python3.6/site-packages/sklearn/preprocessing/label.py:151: DeprecationWarning: The truth value of an empty array is ambiguous. Returning False, but in future this will result in an error. Use `array.size > 0` to check that an array is not empty.\n",
      "  if diff:\n",
      "/home/ubuntu/anaconda3/lib/python3.6/site-packages/sklearn/preprocessing/label.py:151: DeprecationWarning: The truth value of an empty array is ambiguous. Returning False, but in future this will result in an error. Use `array.size > 0` to check that an array is not empty.\n",
      "  if diff:\n"
     ]
    },
    {
     "name": "stdout",
     "output_type": "stream",
     "text": [
      "[CV] ................................................. , total=13.1min\n",
      "[CV]  ................................................................\n"
     ]
    },
    {
     "name": "stderr",
     "output_type": "stream",
     "text": [
      "/home/ubuntu/anaconda3/lib/python3.6/site-packages/sklearn/preprocessing/label.py:151: DeprecationWarning: The truth value of an empty array is ambiguous. Returning False, but in future this will result in an error. Use `array.size > 0` to check that an array is not empty.\n",
      "  if diff:\n",
      "/home/ubuntu/anaconda3/lib/python3.6/site-packages/sklearn/preprocessing/label.py:151: DeprecationWarning: The truth value of an empty array is ambiguous. Returning False, but in future this will result in an error. Use `array.size > 0` to check that an array is not empty.\n",
      "  if diff:\n"
     ]
    },
    {
     "name": "stdout",
     "output_type": "stream",
     "text": [
      "[CV] ................................................. , total=12.9min\n",
      "[CV]  ................................................................\n"
     ]
    },
    {
     "name": "stderr",
     "output_type": "stream",
     "text": [
      "/home/ubuntu/anaconda3/lib/python3.6/site-packages/sklearn/preprocessing/label.py:151: DeprecationWarning: The truth value of an empty array is ambiguous. Returning False, but in future this will result in an error. Use `array.size > 0` to check that an array is not empty.\n",
      "  if diff:\n",
      "/home/ubuntu/anaconda3/lib/python3.6/site-packages/sklearn/preprocessing/label.py:151: DeprecationWarning: The truth value of an empty array is ambiguous. Returning False, but in future this will result in an error. Use `array.size > 0` to check that an array is not empty.\n",
      "  if diff:\n"
     ]
    },
    {
     "name": "stdout",
     "output_type": "stream",
     "text": [
      "[CV] ................................................. , total=12.9min\n",
      "[CV]  ................................................................\n"
     ]
    },
    {
     "name": "stderr",
     "output_type": "stream",
     "text": [
      "/home/ubuntu/anaconda3/lib/python3.6/site-packages/sklearn/preprocessing/label.py:151: DeprecationWarning: The truth value of an empty array is ambiguous. Returning False, but in future this will result in an error. Use `array.size > 0` to check that an array is not empty.\n",
      "  if diff:\n",
      "/home/ubuntu/anaconda3/lib/python3.6/site-packages/sklearn/preprocessing/label.py:151: DeprecationWarning: The truth value of an empty array is ambiguous. Returning False, but in future this will result in an error. Use `array.size > 0` to check that an array is not empty.\n",
      "  if diff:\n"
     ]
    },
    {
     "name": "stdout",
     "output_type": "stream",
     "text": [
      "[CV] ................................................. , total=13.0min\n",
      "[CV]  ................................................................\n"
     ]
    },
    {
     "name": "stderr",
     "output_type": "stream",
     "text": [
      "/home/ubuntu/anaconda3/lib/python3.6/site-packages/sklearn/preprocessing/label.py:151: DeprecationWarning: The truth value of an empty array is ambiguous. Returning False, but in future this will result in an error. Use `array.size > 0` to check that an array is not empty.\n",
      "  if diff:\n",
      "/home/ubuntu/anaconda3/lib/python3.6/site-packages/sklearn/preprocessing/label.py:151: DeprecationWarning: The truth value of an empty array is ambiguous. Returning False, but in future this will result in an error. Use `array.size > 0` to check that an array is not empty.\n",
      "  if diff:\n",
      "[Parallel(n_jobs=1)]: Done  10 out of  10 | elapsed: 131.3min finished\n"
     ]
    },
    {
     "name": "stdout",
     "output_type": "stream",
     "text": [
      "[CV] ................................................. , total=12.9min\n",
      "Best params: {}\n",
      "Best training f1: 0.215\n",
      "test accuracy 0.21591594177934717:\n"
     ]
    },
    {
     "name": "stderr",
     "output_type": "stream",
     "text": [
      "/home/ubuntu/anaconda3/lib/python3.6/site-packages/sklearn/preprocessing/label.py:151: DeprecationWarning: The truth value of an empty array is ambiguous. Returning False, but in future this will result in an error. Use `array.size > 0` to check that an array is not empty.\n",
      "  if diff:\n"
     ]
    },
    {
     "ename": "ValueError",
     "evalue": "multiclass format is not supported",
     "output_type": "error",
     "traceback": [
      "\u001b[0;31m---------------------------------------------------------------------------\u001b[0m",
      "\u001b[0;31mValueError\u001b[0m                                Traceback (most recent call last)",
      "\u001b[0;32m<ipython-input-4-394b08602c5e>\u001b[0m in \u001b[0;36m<module>\u001b[0;34m()\u001b[0m\n\u001b[1;32m    224\u001b[0m \u001b[0;34m\u001b[0m\u001b[0m\n\u001b[1;32m    225\u001b[0m     \u001b[0;31m#auc\u001b[0m\u001b[0;34m\u001b[0m\u001b[0;34m\u001b[0m\u001b[0m\n\u001b[0;32m--> 226\u001b[0;31m     \u001b[0mprint\u001b[0m\u001b[0;34m(\u001b[0m\u001b[0;34m'test auc {}:'\u001b[0m\u001b[0;34m.\u001b[0m\u001b[0mformat\u001b[0m\u001b[0;34m(\u001b[0m \u001b[0mroc_auc_score\u001b[0m\u001b[0;34m(\u001b[0m\u001b[0my_test\u001b[0m\u001b[0;34m,\u001b[0m \u001b[0my_pred\u001b[0m\u001b[0;34m)\u001b[0m\u001b[0;34m)\u001b[0m\u001b[0;34m)\u001b[0m\u001b[0;34m\u001b[0m\u001b[0m\n\u001b[0m\u001b[1;32m    227\u001b[0m \u001b[0;34m\u001b[0m\u001b[0m\n\u001b[1;32m    228\u001b[0m     \u001b[0;31m# Test data accuracy of model with best params\u001b[0m\u001b[0;34m\u001b[0m\u001b[0;34m\u001b[0m\u001b[0m\n",
      "\u001b[0;32m~/anaconda3/lib/python3.6/site-packages/sklearn/metrics/ranking.py\u001b[0m in \u001b[0;36mroc_auc_score\u001b[0;34m(y_true, y_score, average, sample_weight)\u001b[0m\n\u001b[1;32m    275\u001b[0m     return _average_binary_score(\n\u001b[1;32m    276\u001b[0m         \u001b[0m_binary_roc_auc_score\u001b[0m\u001b[0;34m,\u001b[0m \u001b[0my_true\u001b[0m\u001b[0;34m,\u001b[0m \u001b[0my_score\u001b[0m\u001b[0;34m,\u001b[0m \u001b[0maverage\u001b[0m\u001b[0;34m,\u001b[0m\u001b[0;34m\u001b[0m\u001b[0m\n\u001b[0;32m--> 277\u001b[0;31m         sample_weight=sample_weight)\n\u001b[0m\u001b[1;32m    278\u001b[0m \u001b[0;34m\u001b[0m\u001b[0m\n\u001b[1;32m    279\u001b[0m \u001b[0;34m\u001b[0m\u001b[0m\n",
      "\u001b[0;32m~/anaconda3/lib/python3.6/site-packages/sklearn/metrics/base.py\u001b[0m in \u001b[0;36m_average_binary_score\u001b[0;34m(binary_metric, y_true, y_score, average, sample_weight)\u001b[0m\n\u001b[1;32m     70\u001b[0m     \u001b[0my_type\u001b[0m \u001b[0;34m=\u001b[0m \u001b[0mtype_of_target\u001b[0m\u001b[0;34m(\u001b[0m\u001b[0my_true\u001b[0m\u001b[0;34m)\u001b[0m\u001b[0;34m\u001b[0m\u001b[0m\n\u001b[1;32m     71\u001b[0m     \u001b[0;32mif\u001b[0m \u001b[0my_type\u001b[0m \u001b[0;32mnot\u001b[0m \u001b[0;32min\u001b[0m \u001b[0;34m(\u001b[0m\u001b[0;34m\"binary\"\u001b[0m\u001b[0;34m,\u001b[0m \u001b[0;34m\"multilabel-indicator\"\u001b[0m\u001b[0;34m)\u001b[0m\u001b[0;34m:\u001b[0m\u001b[0;34m\u001b[0m\u001b[0m\n\u001b[0;32m---> 72\u001b[0;31m         \u001b[0;32mraise\u001b[0m \u001b[0mValueError\u001b[0m\u001b[0;34m(\u001b[0m\u001b[0;34m\"{0} format is not supported\"\u001b[0m\u001b[0;34m.\u001b[0m\u001b[0mformat\u001b[0m\u001b[0;34m(\u001b[0m\u001b[0my_type\u001b[0m\u001b[0;34m)\u001b[0m\u001b[0;34m)\u001b[0m\u001b[0;34m\u001b[0m\u001b[0m\n\u001b[0m\u001b[1;32m     73\u001b[0m \u001b[0;34m\u001b[0m\u001b[0m\n\u001b[1;32m     74\u001b[0m     \u001b[0;32mif\u001b[0m \u001b[0my_type\u001b[0m \u001b[0;34m==\u001b[0m \u001b[0;34m\"binary\"\u001b[0m\u001b[0;34m:\u001b[0m\u001b[0;34m\u001b[0m\u001b[0m\n",
      "\u001b[0;31mValueError\u001b[0m: multiclass format is not supported"
     ]
    }
   ],
   "source": [
    "\n",
    "# model pipelines\n",
    "#-----------------------------------\n",
    "#-------------linear\n",
    "pipe_lr = Pipeline([('scl', StandardScaler()),\n",
    "            ('clf', LogisticRegression(random_state=42))])\n",
    "\n",
    "pipe_lr_l2 = Pipeline([('scl', StandardScaler()),\n",
    "            ('clf', LogisticRegression(random_state=42))])\n",
    "\n",
    "pipe_sgd = Pipeline([('scl', StandardScaler()),\n",
    "            ('clf', SGDClassifier(random_state=42))])\n",
    "\n",
    "\n",
    "#-------------trees\n",
    "pipe_dt = Pipeline([('clf', DecisionTreeClassifier(random_state=42))])\n",
    "\n",
    "pipe_rf = Pipeline([('clf', RandomForestClassifier(random_state=42))])\n",
    "\n",
    "pipe_rf_scl = Pipeline([('scl', StandardScaler()),\n",
    "            ('clf', RandomForestClassifier(random_state=42))])\n",
    "\n",
    "pipe_gb = Pipeline([('clf', GradientBoostingClassifier(random_state=42))])\n",
    "\n",
    "\n",
    "#-------------SVM\n",
    "pipe_svm = Pipeline([('scl', StandardScaler()),\n",
    "            ('clf', SVC(random_state=42))])\n",
    "\n",
    "\n",
    "#-------------KNN\n",
    "pipe_knn = Pipeline([('clf', KNeighborsClassifier())])\n",
    "\n",
    "pipe_knn_scl = Pipeline([('scl', StandardScaler()),\n",
    "            ('clf', KNeighborsClassifier())])\n",
    "\n",
    "#-----------------------------------\n",
    "\n",
    "#-------------XGB\n",
    "pipe_xgb = Pipeline([('clf', xgb.XGBClassifier())])\n",
    "#-----------------------------------\n",
    "\n",
    "\n",
    "# grid search params\n",
    "param_range = [1, 2, 3, 4, 5, 6, 7, 8, 9, 10]\n",
    "param_range_fl = [1.0, 0.5, 0.1]\n",
    "max_depth = [10,100,1000,10000]\n",
    "max_depth2 = [10,100,1000]\n",
    "alpha_range = [.1, .001, .00001, .000001]\n",
    "gamma_range = [.1, 1, 10]\n",
    "\n",
    "#-------------linear\n",
    "grid_params_lr = [{'clf__penalty': ['l1'],\n",
    "        'clf__C': param_range_fl,\n",
    "        'clf__solver': ['liblinear', ],  #,'saga'\n",
    "        #'clf__multi_class': ['ovr', 'multinomial', 'auto'],\n",
    "        'clf__class_weight': [None, 'balanced']}] \n",
    "\n",
    "grid_params_lr_l2 = [{'clf__penalty': ['l2'],\n",
    "        'clf__C': param_range_fl,\n",
    "        'clf__solver': ['newton-cg', 'lbfgs', 'liblinear'],  #, 'sag'\n",
    "        #'clf__multi_class': ['ovr', 'multinomial', 'auto'],\n",
    "        'clf__class_weight': [None, 'balanced']}]\n",
    "\n",
    "grid_params_sgd = [{'clf__loss': ['hinge', 'log', 'perceptron'],\n",
    "        'clf__alpha': alpha_range,\n",
    "        'clf__penalty': ['l1', 'l2', 'elasticnet'],\n",
    "        'clf__class_weight': [None, 'balanced']}] \n",
    "\n",
    "#-------------trees\n",
    "grid_params_dt = [{'clf__criterion': ['gini', 'entropy'],\n",
    "        'clf__min_samples_leaf': param_range,\n",
    "        'clf__max_depth': max_depth,\n",
    "        'clf__min_samples_split': param_range[1:],\n",
    "        'clf__class_weight': [None, 'balanced']}]\n",
    "\n",
    "grid_params_rf = [{'clf__criterion': ['entropy'],\n",
    "        'clf__min_samples_leaf': [1],\n",
    "        'clf__max_depth': [1000],\n",
    "        'clf__min_samples_split': [10],\n",
    "        'clf__class_weight': [None],\n",
    "        'clf__n_estimators':[10]}]\n",
    "\n",
    "#<3\n",
    "grid_params_gb = [{'clf__loss': ['deviance', 'exponential'],\n",
    "        'clf__learning_rate': alpha_range,\n",
    "        'clf__n_estimators': max_depth2,\n",
    "        'clf__subsample': param_range_fl}]\n",
    "\n",
    "#-------------SVM\n",
    "grid_params_svm = [{'clf__kernel': ['linear', 'rbf', 'poly'],\n",
    "        'clf__degree': param_range[1:],\n",
    "        'clf__gamma': gamma_range,\n",
    "        'clf__C': gamma_range,\n",
    "        'clf__class_weight': [None, 'balanced']}]\n",
    "\n",
    "#-------------KNN\n",
    "grid_params_knn = [{'clf__n_neighbors': param_range}]\n",
    "\n",
    "#-------------XGB\n",
    "\n",
    "grid_params_xgb = [{}]\n",
    "\n",
    "# #'clf__n_estimators': max_depth2,\n",
    "#                    'clf__max_depth': max_depth,\n",
    "#                    'clf__learning_rate':gamma_range\n",
    "\n",
    "#--------------------------------------------------------------\n",
    "\n",
    "# Construct grid searches\n",
    "jobs = -1\n",
    "verbose = 2\n",
    "\n",
    "#-------------linear\n",
    "gs_lr = GridSearchCV(estimator=pipe_lr,\n",
    "            param_grid=grid_params_lr,\n",
    "            scoring='f1_micro',\n",
    "            cv=10,\n",
    "            n_jobs=jobs,\n",
    "            verbose=verbose) \n",
    "\n",
    "gs_lr_l2 = GridSearchCV(estimator=pipe_lr_l2,\n",
    "            param_grid=grid_params_lr_l2,\n",
    "            scoring='f1_micro',\n",
    "            cv=10,\n",
    "            n_jobs=jobs,\n",
    "            verbose=verbose)\n",
    "\n",
    "gs_sgd = GridSearchCV(estimator=pipe_sgd,\n",
    "            param_grid=grid_params_sgd,\n",
    "            scoring='f1_micro',\n",
    "            cv=10,\n",
    "            verbose=verbose)\n",
    "\n",
    "\n",
    "#-------------trees    \n",
    "gs_dt = GridSearchCV(estimator=pipe_rf,\n",
    "            param_grid=grid_params_dt,\n",
    "            scoring='f1_micro',\n",
    "            cv=10, \n",
    "            n_jobs=jobs,\n",
    "            verbose=verbose)\n",
    "\n",
    "gs_rf = GridSearchCV(estimator=pipe_rf,\n",
    "            param_grid=grid_params_rf,\n",
    "            scoring='f1_micro',\n",
    "            cv=10, \n",
    "            n_jobs=jobs,\n",
    "            verbose=verbose)\n",
    "\n",
    "gs_rf_scl = GridSearchCV(estimator=pipe_rf_scl,\n",
    "            param_grid=grid_params_rf,\n",
    "            scoring='f1_micro',\n",
    "            cv=10, \n",
    "            n_jobs=jobs,\n",
    "            verbose=verbose)\n",
    "\n",
    "gs_gb = GridSearchCV(estimator=pipe_gb,\n",
    "            param_grid=grid_params_gb,\n",
    "            scoring='f1_micro',\n",
    "            cv=10, \n",
    "            verbose=verbose)\n",
    "\n",
    "#-------------SVM\n",
    "\n",
    "gs_svm = GridSearchCV(estimator=pipe_svm,\n",
    "            param_grid=grid_params_svm,\n",
    "            scoring='f1_micro',\n",
    "            cv=10,\n",
    "            n_jobs=jobs,\n",
    "            verbose=verbose)\n",
    "\n",
    "#-------------KNN\n",
    "gs_knn = GridSearchCV(estimator=pipe_knn,\n",
    "            param_grid=grid_params_knn,\n",
    "            scoring='f1_micro',\n",
    "            cv=10,\n",
    "            n_jobs=jobs,\n",
    "            verbose=verbose)\n",
    "\n",
    "gs_knn_scl = GridSearchCV(estimator=pipe_knn_scl,\n",
    "            param_grid=grid_params_knn,\n",
    "            scoring='f1_micro',\n",
    "            cv=10,\n",
    "            n_jobs=jobs,\n",
    "            verbose=verbose)\n",
    "\n",
    "#-------------XGB\n",
    "gs_xgb = GridSearchCV(estimator=pipe_xgb,\n",
    "            param_grid=grid_params_xgb,\n",
    "            scoring='f1_micro',\n",
    "            cv=10, \n",
    "            verbose=verbose)\n",
    "\n",
    "#---------------------------------------------------------------------\n",
    "\n",
    "# List of pipelines for ease of iteration\n",
    "grids = [ gs_xgb]\n",
    "\n",
    "# Dictionary of pipelines and classifier types for ease of reference\n",
    "grid_dict = {0:'xgb'}\n",
    "\n",
    "# Fit the grid search objects\n",
    "print('Performing model optimizations...')\n",
    "best_f1_micro = 0.0\n",
    "best_clf = 0\n",
    "best_gs = ''\n",
    "for idx, gs in enumerate(grids):\n",
    "    print('\\nEstimator: %s' % grid_dict[idx])\n",
    "    # Fit grid search\n",
    "    gs = gs.fit(X_train, y_train)\n",
    "\n",
    "    # Best params\n",
    "    print('Best params: %s' % gs.best_params_)\n",
    "\n",
    "    # Best training data f1\n",
    "    print('Best training f1: %.3f' % gs.best_score_)\n",
    "\n",
    "    # Predict on test data with best params\n",
    "    y_pred = gs.predict(X_test)\n",
    "\n",
    "    #accuracy\n",
    "    print('test accuracy {}:'.format( accuracy_score(y_test, y_pred)))\n",
    "    \n",
    "    #auc\n",
    "    print('test auc {}:'.format( roc_auc_score(y_test, y_pred)))\n",
    "\n",
    "    # Test data accuracy of model with best params\n",
    "    print('Test set f1 score for best params: %.3f ' % f1_score(y_test, y_pred))\n",
    "\n",
    "    # Track best (highest test f1) model\n",
    "    if f1_score(y_test, y_pred) > best_f1_micro:\n",
    "        best_f1_micro = f1_score(y_test, y_pred)\n",
    "        best_gs = gs\n",
    "        best_clf = idx\n",
    "print('\\nClassifier with best test set f1: %s' % grid_dict[best_clf])\n",
    "\n",
    "# Save best grid search pipeline to file\n",
    "dump_file = 'best_model_no_feat_sel_extr_occ_15.pkl'\n",
    "joblib.dump(best_gs, dump_file, compress=1)\n",
    "print('\\nSaved %s grid search pipeline to file: %s' % (grid_dict[best_clf], dump_file))"
   ]
  },
  {
   "cell_type": "code",
   "execution_count": 7,
   "metadata": {},
   "outputs": [
    {
     "data": {
      "text/plain": [
       "0.2159159417793472"
      ]
     },
     "execution_count": 7,
     "metadata": {},
     "output_type": "execute_result"
    }
   ],
   "source": [
    "f1_score(y_test, y_pred, average='micro')"
   ]
  },
  {
   "cell_type": "code",
   "execution_count": 8,
   "metadata": {
    "scrolled": true
   },
   "outputs": [
    {
     "data": {
      "text/plain": [
       "array([3.5968819e-01, 8.6117294e-03, 6.9784708e-03, 1.4105419e-03,\n",
       "       1.4105420e-02, 2.1677803e-02, 1.5367484e-02, 4.7512990e-03,\n",
       "       1.0690423e-02, 2.5241277e-03, 5.1224944e-03, 2.6429102e-02,\n",
       "       5.7906457e-03, 4.8997775e-03, 5.4936898e-03, 1.7817372e-03,\n",
       "       8.3890129e-03, 1.9302153e-03, 1.0913140e-02, 0.0000000e+00,\n",
       "       1.3363028e-03, 0.0000000e+00, 4.8997775e-03, 0.0000000e+00,\n",
       "       0.0000000e+00, 1.2620639e-03, 4.8255380e-03, 0.0000000e+00,\n",
       "       9.6510760e-03, 1.7074981e-03, 2.6726057e-03, 1.1135858e-02,\n",
       "       1.3808464e-02, 1.7817372e-03, 0.0000000e+00, 1.0244989e-02,\n",
       "       2.0786934e-03, 2.5983667e-03, 8.3890129e-03, 4.0831477e-03,\n",
       "       0.0000000e+00, 1.8559763e-03, 1.0393467e-03, 0.0000000e+00,\n",
       "       2.5241277e-03, 1.0393467e-03, 7.4239052e-04, 6.6815142e-04,\n",
       "       3.7119526e-04, 0.0000000e+00, 0.0000000e+00, 6.6815142e-04,\n",
       "       4.3058647e-03, 1.4847810e-04, 2.9695619e-04, 1.2620639e-03,\n",
       "       1.4847810e-03, 7.9435781e-03, 2.3014105e-03, 0.0000000e+00,\n",
       "       2.6726057e-03, 2.2271716e-03, 6.6815142e-04, 2.0786934e-03,\n",
       "       2.7468449e-03, 0.0000000e+00, 7.4239052e-04, 2.9695621e-03,\n",
       "       2.9695621e-03, 0.0000000e+00, 3.4149962e-03, 5.9391238e-04,\n",
       "       9.6510764e-04, 6.6815142e-04, 8.9086860e-04, 7.1269488e-03,\n",
       "       1.6332591e-03, 2.2271715e-04, 4.0831477e-03, 0.0000000e+00,\n",
       "       0.0000000e+00, 5.9391238e-04, 0.0000000e+00, 0.0000000e+00,\n",
       "       2.3014105e-03, 2.9695621e-03, 0.0000000e+00, 1.1878248e-03,\n",
       "       1.3066073e-02, 0.0000000e+00, 0.0000000e+00, 4.0089088e-03,\n",
       "       1.0393467e-03, 0.0000000e+00, 1.3363028e-03, 0.0000000e+00,\n",
       "       0.0000000e+00, 2.2271715e-04, 9.6510764e-04, 2.9695619e-04,\n",
       "       1.4105419e-03, 0.0000000e+00, 3.4892354e-03, 2.9695621e-03,\n",
       "       6.6815142e-04, 7.4239048e-05, 8.9086860e-04, 6.6815142e-04,\n",
       "       0.0000000e+00, 4.2316257e-03, 3.1180400e-03, 2.3014105e-03,\n",
       "       1.3363028e-03, 0.0000000e+00, 3.7119526e-04, 2.0786934e-03,\n",
       "       0.0000000e+00, 1.9302153e-03, 0.0000000e+00, 1.7074981e-03,\n",
       "       0.0000000e+00, 3.4149962e-03, 3.9346698e-03, 2.2271715e-04,\n",
       "       2.2271715e-04, 0.0000000e+00, 1.1135858e-03, 1.0393467e-03,\n",
       "       6.6815142e-04, 1.1878248e-03, 8.9086860e-04, 7.4239048e-05,\n",
       "       1.3363028e-03, 1.1135858e-03, 1.5590200e-03, 0.0000000e+00,\n",
       "       2.4498887e-03, 0.0000000e+00, 1.7817372e-03, 1.4847810e-03,\n",
       "       2.0786934e-03, 2.4498887e-03, 0.0000000e+00, 8.1662956e-04,\n",
       "       4.1573867e-03, 0.0000000e+00, 0.0000000e+00, 6.7557534e-03,\n",
       "       1.1878248e-03, 0.0000000e+00, 0.0000000e+00, 0.0000000e+00,\n",
       "       6.6815142e-04, 0.0000000e+00, 0.0000000e+00, 0.0000000e+00,\n",
       "       2.6726057e-03, 1.0393467e-03, 2.2271715e-04, 7.4239048e-05,\n",
       "       0.0000000e+00, 0.0000000e+00, 3.7119526e-04, 1.3363028e-03,\n",
       "       0.0000000e+00, 0.0000000e+00, 2.8210839e-03, 2.9695619e-04,\n",
       "       1.2620639e-03, 2.9695619e-04, 0.0000000e+00, 1.1878248e-03,\n",
       "       0.0000000e+00, 0.0000000e+00, 0.0000000e+00, 3.7119526e-03,\n",
       "       1.8559763e-03, 6.6815142e-04, 0.0000000e+00, 5.1967334e-04,\n",
       "       0.0000000e+00, 1.4847810e-04, 1.1135858e-03, 0.0000000e+00,\n",
       "       2.9695619e-04, 0.0000000e+00, 0.0000000e+00, 3.7119526e-03,\n",
       "       8.9086860e-04, 2.9695619e-04, 6.2360801e-03, 5.9391238e-04,\n",
       "       4.6770601e-03, 2.2271715e-04, 5.9391238e-04, 5.9391238e-04,\n",
       "       0.0000000e+00, 0.0000000e+00, 0.0000000e+00, 0.0000000e+00,\n",
       "       1.0393467e-03, 4.4543431e-03, 0.0000000e+00, 0.0000000e+00,\n",
       "       5.9391238e-04, 6.6815142e-04, 0.0000000e+00, 0.0000000e+00,\n",
       "       0.0000000e+00, 2.3756495e-03, 0.0000000e+00, 2.4498887e-03,\n",
       "       0.0000000e+00, 2.0786934e-03, 1.2620639e-03, 2.2271715e-04,\n",
       "       0.0000000e+00, 0.0000000e+00, 0.0000000e+00, 0.0000000e+00,\n",
       "       0.0000000e+00, 1.1135858e-03, 0.0000000e+00, 0.0000000e+00,\n",
       "       0.0000000e+00, 0.0000000e+00, 0.0000000e+00, 0.0000000e+00,\n",
       "       7.4239048e-05, 0.0000000e+00, 0.0000000e+00, 3.7119526e-04,\n",
       "       7.4239052e-04, 0.0000000e+00, 0.0000000e+00, 0.0000000e+00,\n",
       "       2.3756495e-03, 0.0000000e+00, 1.1135858e-03, 1.4105419e-03,\n",
       "       0.0000000e+00, 7.4239048e-05, 0.0000000e+00, 8.9086860e-04,\n",
       "       4.4543430e-04, 0.0000000e+00, 0.0000000e+00, 1.1878248e-03,\n",
       "       0.0000000e+00, 0.0000000e+00, 8.9086860e-04, 0.0000000e+00,\n",
       "       9.6510764e-04, 0.0000000e+00, 0.0000000e+00, 1.7817372e-03,\n",
       "       0.0000000e+00, 0.0000000e+00, 0.0000000e+00, 2.9695619e-04,\n",
       "       0.0000000e+00, 0.0000000e+00, 4.4543430e-04, 0.0000000e+00,\n",
       "       0.0000000e+00, 4.4543430e-04, 7.4239048e-05, 8.1662956e-04,\n",
       "       0.0000000e+00, 0.0000000e+00, 5.1967334e-04, 1.2620639e-03,\n",
       "       7.4239048e-05, 0.0000000e+00, 4.5285821e-03, 3.0438011e-03,\n",
       "       0.0000000e+00, 2.9695619e-04, 0.0000000e+00, 0.0000000e+00,\n",
       "       0.0000000e+00, 0.0000000e+00, 0.0000000e+00, 0.0000000e+00,\n",
       "       0.0000000e+00, 0.0000000e+00, 1.0393467e-03, 0.0000000e+00,\n",
       "       0.0000000e+00, 0.0000000e+00, 0.0000000e+00, 0.0000000e+00,\n",
       "       0.0000000e+00, 0.0000000e+00, 0.0000000e+00, 7.4239048e-05,\n",
       "       2.2271715e-04, 0.0000000e+00, 0.0000000e+00, 1.2620639e-03,\n",
       "       0.0000000e+00, 7.4239048e-05, 0.0000000e+00, 0.0000000e+00,\n",
       "       0.0000000e+00, 8.1662956e-04, 2.8210839e-03, 0.0000000e+00,\n",
       "       0.0000000e+00, 8.1662956e-04, 0.0000000e+00, 0.0000000e+00,\n",
       "       0.0000000e+00, 0.0000000e+00, 0.0000000e+00, 0.0000000e+00,\n",
       "       2.2271715e-04, 2.2271715e-04, 0.0000000e+00, 0.0000000e+00,\n",
       "       5.9391238e-04, 1.4847810e-04, 0.0000000e+00, 0.0000000e+00,\n",
       "       0.0000000e+00, 2.2271715e-04, 0.0000000e+00, 0.0000000e+00,\n",
       "       7.4239052e-04, 7.4239048e-05, 0.0000000e+00, 4.2984411e-02,\n",
       "       2.4498887e-03, 0.0000000e+00, 0.0000000e+00, 0.0000000e+00,\n",
       "       0.0000000e+00, 0.0000000e+00, 3.7119526e-04, 0.0000000e+00,\n",
       "       0.0000000e+00, 0.0000000e+00, 6.6815142e-04, 6.6815142e-04,\n",
       "       0.0000000e+00, 2.7468449e-03, 1.0393467e-03, 3.7119526e-04,\n",
       "       0.0000000e+00, 0.0000000e+00, 0.0000000e+00, 0.0000000e+00,\n",
       "       0.0000000e+00, 0.0000000e+00, 6.6815142e-04, 0.0000000e+00,\n",
       "       0.0000000e+00, 3.7119526e-04, 5.1967334e-04, 0.0000000e+00,\n",
       "       0.0000000e+00, 0.0000000e+00, 0.0000000e+00, 0.0000000e+00,\n",
       "       2.5241277e-03, 5.5679288e-03, 2.7468449e-03, 4.0089088e-03,\n",
       "       0.0000000e+00, 8.3890129e-03, 1.4847810e-04, 3.2665182e-03,\n",
       "       7.1269488e-03, 1.2620639e-03, 1.4105419e-03, 1.7817372e-03,\n",
       "       9.6510764e-04, 3.1180400e-03, 4.1573867e-03, 4.0089088e-03,\n",
       "       4.4543430e-04, 0.0000000e+00, 2.1677803e-02, 0.0000000e+00,\n",
       "       1.8559763e-03, 1.0987380e-02, 1.0913140e-02, 7.1269488e-03],\n",
       "      dtype=float32)"
      ]
     },
     "execution_count": 8,
     "metadata": {},
     "output_type": "execute_result"
    }
   ],
   "source": [
    "gs.best_estimator_.named_steps[\"clf\"].feature_importances_ "
   ]
  },
  {
   "cell_type": "code",
   "execution_count": 10,
   "metadata": {},
   "outputs": [],
   "source": [
    "xgbimportances = gs.best_estimator_.named_steps[\"clf\"].feature_importances_ \n",
    "indices = np.argsort(xgbimportances)[::-1][0:9]"
   ]
  },
  {
   "cell_type": "code",
   "execution_count": 18,
   "metadata": {},
   "outputs": [
    {
     "data": {
      "text/plain": [
       "''"
      ]
     },
     "execution_count": 18,
     "metadata": {},
     "output_type": "execute_result"
    },
    {
     "data": {
      "image/png": "[encoded data removed]",
      "text/plain": [
       "<Figure size 432x288 with 1 Axes>"
      ]
     },
     "metadata": {},
     "output_type": "display_data"
    }
   ],
   "source": [
    "plt.Figure(figsize=(10,30))\n",
    "xgb.plot_importance(gs.best_estimator_.named_steps[\"clf\"], grid=False, height=.4, max_num_features=10)\n",
    ";"
   ]
  },
  {
   "cell_type": "code",
   "execution_count": null,
   "metadata": {},
   "outputs": [],
   "source": []
  }
 ],
 "metadata": {
  "kernelspec": {
   "display_name": "Python 3",
   "language": "python",
   "name": "python3"
  },
  "language_info": {
   "codemirror_mode": {
    "name": "ipython",
    "version": 3
   },
   "file_extension": ".py",
   "mimetype": "text/x-python",
   "name": "python",
   "nbconvert_exporter": "python",
   "pygments_lexer": "ipython3",
   "version": "3.6.5"
  }
 },
 "nbformat": 4,
 "nbformat_minor": 2
}
