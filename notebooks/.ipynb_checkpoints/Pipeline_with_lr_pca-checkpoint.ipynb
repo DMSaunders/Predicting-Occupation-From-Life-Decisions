{
 "cells": [
  {
   "cell_type": "code",
   "execution_count": 35,
   "metadata": {},
   "outputs": [],
   "source": [
    "import pandas as pd\n",
    "import numpy as np\n",
    "import seaborn as sns\n",
    "import matplotlib.pyplot as plt\n",
    "import joblib\n",
    "\n",
    "import sys \n",
    "sys.path.append('../')\n",
    "import src.model.feature_cleaning as feature_cleaning\n",
    "\n",
    "pd.set_option('display.max_rows', 500)\n",
    "pd.set_option('display.max_columns', 500)\n",
    "pd.set_option('display.width', 1000)\n",
    "\n",
    "\n",
    "#sklearn models\n",
    "from sklearn.linear_model import LogisticRegression, SGDClassifier\n",
    "from sklearn.ensemble import RandomForestClassifier, GradientBoostingClassifier\n",
    "from sklearn.tree import DecisionTreeClassifier\n",
    "from sklearn.svm import SVC\n",
    "from sklearn.neighbors import KNeighborsClassifier\n",
    "#sklearn other\n",
    "import graphviz \n",
    "from sklearn.model_selection import train_test_split, GridSearchCV\n",
    "from sklearn.metrics import classification_report, confusion_matrix, f1_score, log_loss, accuracy_score\n",
    "from mlxtend.plotting import plot_confusion_matrix\n",
    "from sklearn.preprocessing import StandardScaler\n",
    "from sklearn.pipeline import Pipeline\n",
    "from sklearn.decomposition import PCA"
   ]
  },
  {
   "cell_type": "code",
   "execution_count": 3,
   "metadata": {},
   "outputs": [],
   "source": [
    "df, fieldofdegree_df, SOCP_labels, schl_labels, major_majors, NAICSP_labels_df, MAJ_NAICSP_labels_df = feature_cleaning.load_dfs()"
   ]
  },
  {
   "cell_type": "code",
   "execution_count": 4,
   "metadata": {},
   "outputs": [
    {
     "name": "stderr",
     "output_type": "stream",
     "text": [
      "../src/model/feature_cleaning.py:81: UserWarning: Boolean Series key will be reindexed to match DataFrame index.\n",
      "  SOCPdf = df.dropna(axis='index', subset=['SOCP'])[df.SOCP != '999920']\n"
     ]
    },
    {
     "name": "stdout",
     "output_type": "stream",
     "text": [
      "Number of employed people: 218454\n",
      "Percent employed people: 0.5785711448056677\n",
      "Number of young employed people: 77406\n",
      "Percent young employed people(out of all PUMS): 0.20500827650135733\n",
      "Number of emp cats: 23\n",
      "Number of degree fields present (max 173): 173\n"
     ]
    },
    {
     "name": "stderr",
     "output_type": "stream",
     "text": [
      "/anaconda3/lib/python3.6/site-packages/pandas/core/generic.py:4405: SettingWithCopyWarning: \n",
      "A value is trying to be set on a copy of a slice from a DataFrame.\n",
      "Try using .loc[row_indexer,col_indexer] = value instead\n",
      "\n",
      "See the caveats in the documentation: http://pandas.pydata.org/pandas-docs/stable/indexing.html#indexing-view-versus-copy\n",
      "  self[name] = value\n",
      "../src/model/feature_cleaning.py:151: SettingWithCopyWarning: \n",
      "A value is trying to be set on a copy of a slice from a DataFrame.\n",
      "Try using .loc[row_indexer,col_indexer] = value instead\n",
      "\n",
      "See the caveats in the documentation: http://pandas.pydata.org/pandas-docs/stable/indexing.html#indexing-view-versus-copy\n",
      "  edu_df['SCHL_labels'] = edu_df.SCHL.map(schl_labels)\n",
      "../src/model/feature_cleaning.py:152: SettingWithCopyWarning: \n",
      "A value is trying to be set on a copy of a slice from a DataFrame.\n",
      "Try using .loc[row_indexer,col_indexer] = value instead\n",
      "\n",
      "See the caveats in the documentation: http://pandas.pydata.org/pandas-docs/stable/indexing.html#indexing-view-versus-copy\n",
      "  edu_df['SCHL_ord'] = edu_df.SCHL.astype(int)\n",
      "../src/model/feature_cleaning.py:155: SettingWithCopyWarning: \n",
      "A value is trying to be set on a copy of a slice from a DataFrame.\n",
      "Try using .loc[row_indexer,col_indexer] = value instead\n",
      "\n",
      "See the caveats in the documentation: http://pandas.pydata.org/pandas-docs/stable/indexing.html#indexing-view-versus-copy\n",
      "  edu_df['FOD1P_MAJ'] = edu_df['FOD1P'].str.slice(start=0, stop=2)\n"
     ]
    },
    {
     "name": "stdout",
     "output_type": "stream",
     "text": [
      "before dummies:\n",
      "<class 'pandas.core.frame.DataFrame'>\n",
      "Int64Index: 77406 entries, 0 to 77405\n",
      "Data columns (total 14 columns):\n",
      "SERIALNO            77406 non-null int64\n",
      "SOCP                77406 non-null object\n",
      "MAJ_SOCP            77406 non-null object\n",
      "MAJ_SOCP_labels     77406 non-null object\n",
      "MAJ_SOCP_15         77406 non-null int64\n",
      "FOD1P               77406 non-null object\n",
      "FOD2P               77406 non-null object\n",
      "FOD1P_labels        77406 non-null object\n",
      "FOD2P_labels        77406 non-null object\n",
      "SCHL                77406 non-null object\n",
      "SCHL_labels         77406 non-null object\n",
      "SCHL_ord            77406 non-null int64\n",
      "FOD1P_MAJ           77406 non-null int64\n",
      "FOD1P_MAJ_labels    77406 non-null object\n",
      "dtypes: int64(4), object(10)\n",
      "memory usage: 53.1 MB\n",
      "None\n"
     ]
    }
   ],
   "source": [
    "youngemp_df = feature_cleaning.clean_that_target(df, SOCP_labels)\n",
    "youngemp_df = feature_cleaning.single_occ_target(youngemp_df)\n",
    "edu_df = feature_cleaning.create_edu_df(youngemp_df, fieldofdegree_df, schl_labels, major_majors)"
   ]
  },
  {
   "cell_type": "code",
   "execution_count": null,
   "metadata": {},
   "outputs": [],
   "source": [
    "edu_df.sample(3)"
   ]
  },
  {
   "cell_type": "code",
   "execution_count": 5,
   "metadata": {},
   "outputs": [],
   "source": [
    "# split the data\n",
    "X = edu_df.drop(columns=[ 'SERIALNO', 'FOD1P', 'FOD2P','SOCP','MAJ_SOCP','MAJ_SOCP_labels', \n",
    "                'MAJ_SOCP_15','FOD1P_labels','FOD2P_labels','SCHL',\n",
    "                'SCHL_labels','FOD1P_MAJ_labels', 'FOD1P_MAJ'])\n",
    "y = edu_df.loc[:,'MAJ_SOCP_15']\n",
    "\n",
    "X_train, X_test, y_train, y_test = train_test_split(X, y,\n",
    "                                                    test_size=0.3, \n",
    "                                                    random_state=42)"
   ]
  },
  {
   "cell_type": "code",
   "execution_count": null,
   "metadata": {},
   "outputs": [],
   "source": [
    "X_train.shape"
   ]
  },
  {
   "cell_type": "code",
   "execution_count": null,
   "metadata": {
    "scrolled": false
   },
   "outputs": [],
   "source": [
    "X_train.sample(5)"
   ]
  },
  {
   "cell_type": "code",
   "execution_count": null,
   "metadata": {},
   "outputs": [],
   "source": [
    "y_train.shape"
   ]
  },
  {
   "cell_type": "code",
   "execution_count": 41,
   "metadata": {},
   "outputs": [],
   "source": [
    "\n",
    "# model pipelines\n",
    "#-----------------------------------\n",
    "pipe_lr_pca = Pipeline([('scl', StandardScaler()),\n",
    "\t\t\t('pca', PCA(n_components=20)),\n",
    "\t\t\t('clf', LogisticRegression(random_state=42))])\n",
    "\n",
    "pipe_sgd_pca = Pipeline([('scl', StandardScaler()),\n",
    "\t\t\t('pca', PCA(n_components=2)),\n",
    "\t\t\t('clf', SGDClassifier(random_state=42))])\n",
    "\n",
    "pipe_rf_pca = Pipeline([('scl', StandardScaler()),\n",
    "\t\t\t('pca', PCA(n_components=2)),\n",
    "\t\t\t('clf', RandomForestClassifier(random_state=42))])\n",
    "\n",
    "pipe_svm_pca = Pipeline([('scl', StandardScaler()),\n",
    "\t\t\t('pca', PCA(n_components=2)),\n",
    "\t\t\t('clf', SVC(random_state=42))])\n",
    "\n",
    "#-----------------------------------"
   ]
  },
  {
   "cell_type": "code",
   "execution_count": 42,
   "metadata": {
    "code_folding": []
   },
   "outputs": [],
   "source": [
    "\n",
    "# grid search params\n",
    "param_range = [1, 2, 3, 4, 5, 6, 7, 8, 9, 10]\n",
    "param_range_fl = [1.0, 0.5, 0.1]\n",
    "max_depth = [10,100,1000,10000]\n",
    "alpha_range = [.1, .001, .00001, .000001]\n",
    "gamma_range = [.1, 1, 10]\n",
    "\n",
    "#-------------linear\n",
    "grid_params_lr = [{'clf__penalty': ['l1'],\n",
    "\t\t'clf__C': param_range_fl,\n",
    "\t\t'clf__solver': ['liblinear', ],  #,'saga'\n",
    "        #'clf__multi_class': ['ovr', 'multinomial', 'auto'],\n",
    "        'clf__class_weight': [None, 'balanced']}] \n",
    "\n",
    "grid_params_lr_l2 = [{'clf__penalty': ['l2'],\n",
    "\t\t'clf__C': param_range_fl,\n",
    "\t\t'clf__solver': ['newton-cg', 'lbfgs', 'liblinear'],  #, 'sag'\n",
    "        #'clf__multi_class': ['ovr', 'multinomial', 'auto'],\n",
    "        'clf__class_weight': [None, 'balanced']}]\n",
    "\n",
    "grid_params_sgd = [{'clf__loss': ['hinge', 'log', 'perceptron'],\n",
    "\t\t'clf__alpha': alpha_range,\n",
    "\t\t'clf__penalty': ['l1', 'l2', 'elasticnet'],\n",
    "        'clf__class_weight': [None, 'balanced']}] \n",
    "\n",
    "#-------------trees\n",
    "grid_params_dt = [{'clf__criterion': ['gini', 'entropy'],\n",
    "\t\t'clf__min_samples_leaf': param_range,\n",
    "\t\t'clf__max_depth': max_depth,\n",
    "\t\t'clf__min_samples_split': param_range[1:],\n",
    "        'clf__class_weight': [None, 'balanced']}]\n",
    "\n",
    "grid_params_rf = [{'clf__criterion': ['gini', 'entropy'],\n",
    "\t\t'clf__min_samples_leaf': param_range,\n",
    "\t\t'clf__max_depth': max_depth,\n",
    "\t\t'clf__min_samples_split': param_range[1:],\n",
    "        'clf__class_weight': [None, 'balanced', 'balanced_subsample']}]\n",
    "\n",
    "grid_params_gb = [{'clf__loss': ['deviance', 'exponential'],\n",
    "\t\t'clf__learning_rate': alpha_range,\n",
    "\t\t'clf__n_estimators': max_depth,\n",
    "\t\t'clf__subsample': param_range_fl}]\n",
    "\n",
    "#-------------SVM\n",
    "grid_params_svm = [{'clf__kernel': ['linear', 'rbf', 'poly'],\n",
    "        'clf__degree': param_range[1:],\n",
    "        'clf__gamma': gamma_range,\n",
    "        'clf__C': gamma_range,\n",
    "        'clf__class_weight': [None, 'balanced']}]\n",
    "\n",
    "#-------------KNN\n",
    "grid_params_knn = [{'clf__n_neighbors': param_range}]"
   ]
  },
  {
   "cell_type": "code",
   "execution_count": 47,
   "metadata": {},
   "outputs": [],
   "source": [
    "# Construct grid searches\n",
    "jobs = -1\n",
    "verbose = 1\n",
    "\n",
    "gs_lr_pca = GridSearchCV(estimator=pipe_lr_pca,\n",
    "\t\t\tparam_grid=grid_params_lr,\n",
    "\t\t\tscoring='f1_micro',\n",
    "\t\t\tcv=10,\n",
    "            verbose=verbose)\n",
    "\n",
    "gs_lr_pca_l2 = GridSearchCV(estimator=pipe_lr_pca,\n",
    "\t\t\tparam_grid=grid_params_lr_l2,\n",
    "\t\t\tscoring='f1_micro',\n",
    "\t\t\tcv=10,\n",
    "            verbose=verbose)\n",
    "\n",
    "gs_sgd_pca = GridSearchCV(estimator=pipe_sgd_pca,\n",
    "\t\t\tparam_grid=grid_params_sgd,\n",
    "\t\t\tscoring='f1_micro',\n",
    "\t\t\tcv=10,\n",
    "            verbose=verbose)\n",
    "\n",
    "gs_rf_pca = GridSearchCV(estimator=pipe_rf_pca,\n",
    "\t\t\tparam_grid=grid_params_rf,\n",
    "\t\t\tscoring='f1_micro',\n",
    "\t\t\tcv=10, \n",
    "\t\t\tn_jobs=jobs,\n",
    "            verbose=verbose)\n",
    "\n",
    "gs_svm_pca = GridSearchCV(estimator=pipe_svm_pca,\n",
    "\t\t\tparam_grid=grid_params_svm,\n",
    "\t\t\tscoring='f1_micro',\n",
    "\t\t\tcv=10,\n",
    "\t\t\tn_jobs=jobs,\n",
    "            verbose=verbose)\n"
   ]
  },
  {
   "cell_type": "code",
   "execution_count": null,
   "metadata": {
    "scrolled": false
   },
   "outputs": [
    {
     "name": "stdout",
     "output_type": "stream",
     "text": [
      "Performing model optimizations...\n",
      "\n",
      "Estimator: rf pca\n",
      "Fitting 10 folds for each of 2160 candidates, totalling 21600 fits\n",
      "[CV] clf__class_weight=None, clf__criterion=gini, clf__max_depth=10, clf__min_samples_leaf=1, clf__min_samples_split=2 \n",
      "[CV] clf__class_weight=None, clf__criterion=gini, clf__max_depth=10, clf__min_samples_leaf=1, clf__min_samples_split=2 \n",
      "[CV] clf__class_weight=None, clf__criterion=gini, clf__max_depth=10, clf__min_samples_leaf=1, clf__min_samples_split=2 \n",
      "[CV] clf__class_weight=None, clf__criterion=gini, clf__max_depth=10, clf__min_samples_leaf=1, clf__min_samples_split=2 \n",
      "[CV] clf__class_weight=None, clf__criterion=gini, clf__max_depth=10, clf__min_samples_leaf=1, clf__min_samples_split=2 \n",
      "[CV] clf__class_weight=None, clf__criterion=gini, clf__max_depth=10, clf__min_samples_leaf=1, clf__min_samples_split=2 \n",
      "[CV] clf__class_weight=None, clf__criterion=gini, clf__max_depth=10, clf__min_samples_leaf=1, clf__min_samples_split=2 \n",
      "[CV] clf__class_weight=None, clf__criterion=gini, clf__max_depth=10, clf__min_samples_leaf=1, clf__min_samples_split=2 \n",
      "[CV] clf__class_weight=None, clf__criterion=gini, clf__max_depth=10, clf__min_samples_leaf=1, clf__min_samples_split=2 \n",
      "[CV] clf__class_weight=None, clf__criterion=gini, clf__max_depth=10, clf__min_samples_leaf=1, clf__min_samples_split=2 \n",
      "[CV] clf__class_weight=None, clf__criterion=gini, clf__max_depth=10, clf__min_samples_leaf=1, clf__min_samples_split=3 \n",
      "[CV] clf__class_weight=None, clf__criterion=gini, clf__max_depth=10, clf__min_samples_leaf=1, clf__min_samples_split=3 \n",
      "[CV]  clf__class_weight=None, clf__criterion=gini, clf__max_depth=10, clf__min_samples_leaf=1, clf__min_samples_split=2, score=0.9642000369071785, total=   8.4s\n",
      "[CV] clf__class_weight=None, clf__criterion=gini, clf__max_depth=10, clf__min_samples_leaf=1, clf__min_samples_split=3 \n"
     ]
    },
    {
     "name": "stderr",
     "output_type": "stream",
     "text": [
      "[Parallel(n_jobs=-1)]: Done   1 tasks      | elapsed:   11.8s\n"
     ]
    },
    {
     "name": "stdout",
     "output_type": "stream",
     "text": [
      "[CV]  clf__class_weight=None, clf__criterion=gini, clf__max_depth=10, clf__min_samples_leaf=1, clf__min_samples_split=2, score=0.9642000369071785, total=  11.5s\n",
      "[CV] clf__class_weight=None, clf__criterion=gini, clf__max_depth=10, clf__min_samples_leaf=1, clf__min_samples_split=3 \n",
      "[CV]  clf__class_weight=None, clf__criterion=gini, clf__max_depth=10, clf__min_samples_leaf=1, clf__min_samples_split=2, score=0.9651227163683337, total=  11.9s\n",
      "[CV] clf__class_weight=None, clf__criterion=gini, clf__max_depth=10, clf__min_samples_leaf=1, clf__min_samples_split=3 \n",
      "[CV]  clf__class_weight=None, clf__criterion=gini, clf__max_depth=10, clf__min_samples_leaf=1, clf__min_samples_split=2, score=0.9643845727994095, total=  12.0s\n",
      "[CV] clf__class_weight=None, clf__criterion=gini, clf__max_depth=10, clf__min_samples_leaf=1, clf__min_samples_split=3 \n",
      "[CV]  clf__class_weight=None, clf__criterion=gini, clf__max_depth=10, clf__min_samples_leaf=1, clf__min_samples_split=2, score=0.9640155010149474, total=  12.1s\n",
      "[CV]  clf__class_weight=None, clf__criterion=gini, clf__max_depth=10, clf__min_samples_leaf=1, clf__min_samples_split=2, score=0.9630928215537922, total=  12.2s\n",
      "[CV] clf__class_weight=None, clf__criterion=gini, clf__max_depth=10, clf__min_samples_leaf=1, clf__min_samples_split=3 \n",
      "[CV]  clf__class_weight=None, clf__criterion=gini, clf__max_depth=10, clf__min_samples_leaf=1, clf__min_samples_split=2, score=0.9662236987818383, total=  12.2s\n",
      "[CV]  clf__class_weight=None, clf__criterion=gini, clf__max_depth=10, clf__min_samples_leaf=1, clf__min_samples_split=2, score=0.9647406313457634, total=  12.1s\n",
      "[CV]  clf__class_weight=None, clf__criterion=gini, clf__max_depth=10, clf__min_samples_leaf=1, clf__min_samples_split=2, score=0.9643779992617202, total=  12.2s\n",
      "[CV] clf__class_weight=None, clf__criterion=gini, clf__max_depth=10, clf__min_samples_leaf=1, clf__min_samples_split=3 \n",
      "[CV]  clf__class_weight=None, clf__criterion=gini, clf__max_depth=10, clf__min_samples_leaf=1, clf__min_samples_split=3, score=0.9643845727994095, total=  11.8s\n",
      "[CV] clf__class_weight=None, clf__criterion=gini, clf__max_depth=10, clf__min_samples_leaf=1, clf__min_samples_split=3 \n",
      "[CV] clf__class_weight=None, clf__criterion=gini, clf__max_depth=10, clf__min_samples_leaf=1, clf__min_samples_split=3 \n",
      "[CV] clf__class_weight=None, clf__criterion=gini, clf__max_depth=10, clf__min_samples_leaf=1, clf__min_samples_split=4 \n"
     ]
    },
    {
     "name": "stderr",
     "output_type": "stream",
     "text": [
      "[Parallel(n_jobs=-1)]: Done   8 tasks      | elapsed:   14.2s\n"
     ]
    },
    {
     "name": "stdout",
     "output_type": "stream",
     "text": [
      "[CV] clf__class_weight=None, clf__criterion=gini, clf__max_depth=10, clf__min_samples_leaf=1, clf__min_samples_split=4 \n",
      "[CV]  clf__class_weight=None, clf__criterion=gini, clf__max_depth=10, clf__min_samples_leaf=1, clf__min_samples_split=2, score=0.9640022152482924, total=  12.4s\n",
      "[CV] clf__class_weight=None, clf__criterion=gini, clf__max_depth=10, clf__min_samples_leaf=1, clf__min_samples_split=4 \n",
      "[CV]  clf__class_weight=None, clf__criterion=gini, clf__max_depth=10, clf__min_samples_leaf=1, clf__min_samples_split=3, score=0.9634618933382543, total=  12.5s\n",
      "[CV] clf__class_weight=None, clf__criterion=gini, clf__max_depth=10, clf__min_samples_leaf=1, clf__min_samples_split=4 \n",
      "[CV]  clf__class_weight=None, clf__criterion=gini, clf__max_depth=10, clf__min_samples_leaf=1, clf__min_samples_split=3, score=0.966599003506182, total=   8.0s\n",
      "[CV] clf__class_weight=None, clf__criterion=gini, clf__max_depth=10, clf__min_samples_leaf=1, clf__min_samples_split=4 \n",
      "[CV]  clf__class_weight=None, clf__criterion=gini, clf__max_depth=10, clf__min_samples_leaf=1, clf__min_samples_split=3, score=0.9645691086916405, total=   7.2s\n",
      "[CV]  clf__class_weight=None, clf__criterion=gini, clf__max_depth=10, clf__min_samples_leaf=1, clf__min_samples_split=3, score=0.9638309651227164, total=   7.0s\n",
      "[CV] clf__class_weight=None, clf__criterion=gini, clf__max_depth=10, clf__min_samples_leaf=1, clf__min_samples_split=4 \n",
      "[CV] clf__class_weight=None, clf__criterion=gini, clf__max_depth=10, clf__min_samples_leaf=1, clf__min_samples_split=4 \n",
      "[CV]  clf__class_weight=None, clf__criterion=gini, clf__max_depth=10, clf__min_samples_leaf=1, clf__min_samples_split=3, score=0.9658608599372578, total=   8.5s\n",
      "[CV] clf__class_weight=None, clf__criterion=gini, clf__max_depth=10, clf__min_samples_leaf=1, clf__min_samples_split=4 \n",
      "[CV]  clf__class_weight=None, clf__criterion=gini, clf__max_depth=10, clf__min_samples_leaf=1, clf__min_samples_split=3, score=0.964562569213732, total=  10.5s\n",
      "[CV]  clf__class_weight=None, clf__criterion=gini, clf__max_depth=10, clf__min_samples_leaf=1, clf__min_samples_split=3, score=0.9649317091177556, total=  10.6s\n",
      "[CV] clf__class_weight=None, clf__criterion=gini, clf__max_depth=10, clf__min_samples_leaf=1, clf__min_samples_split=4 \n"
     ]
    },
    {
     "name": "stderr",
     "output_type": "stream",
     "text": [
      "[Parallel(n_jobs=-1)]: Done  17 tasks      | elapsed:   26.1s\n"
     ]
    },
    {
     "name": "stdout",
     "output_type": "stream",
     "text": [
      "[CV]  clf__class_weight=None, clf__criterion=gini, clf__max_depth=10, clf__min_samples_leaf=1, clf__min_samples_split=3, score=0.966402067565073, total=  10.6s\n",
      "[CV] clf__class_weight=None, clf__criterion=gini, clf__max_depth=10, clf__min_samples_leaf=1, clf__min_samples_split=4 \n",
      "[CV]  clf__class_weight=None, clf__criterion=gini, clf__max_depth=10, clf__min_samples_leaf=1, clf__min_samples_split=4, score=0.9640155010149474, total=  10.5s\n",
      "[CV]  clf__class_weight=None, clf__criterion=gini, clf__max_depth=10, clf__min_samples_leaf=1, clf__min_samples_split=3, score=0.9641868192726601, total=  10.6s\n",
      "[CV] clf__class_weight=None, clf__criterion=gini, clf__max_depth=10, clf__min_samples_leaf=1, clf__min_samples_split=5 \n",
      "[CV] clf__class_weight=None, clf__criterion=gini, clf__max_depth=10, clf__min_samples_leaf=1, clf__min_samples_split=5 \n",
      "[CV]  clf__class_weight=None, clf__criterion=gini, clf__max_depth=10, clf__min_samples_leaf=1, clf__min_samples_split=4, score=0.9675216829673371, total=  10.6s\n",
      "[CV] clf__class_weight=None, clf__criterion=gini, clf__max_depth=10, clf__min_samples_leaf=1, clf__min_samples_split=5 \n",
      "[CV] clf__class_weight=None, clf__criterion=gini, clf__max_depth=10, clf__min_samples_leaf=1, clf__min_samples_split=5 \n",
      "[CV]  clf__class_weight=None, clf__criterion=gini, clf__max_depth=10, clf__min_samples_leaf=1, clf__min_samples_split=4, score=0.966783539398413, total=  10.5s\n",
      "[CV] clf__class_weight=None, clf__criterion=gini, clf__max_depth=10, clf__min_samples_leaf=1, clf__min_samples_split=5 \n",
      "[CV]  clf__class_weight=None, clf__criterion=gini, clf__max_depth=10, clf__min_samples_leaf=1, clf__min_samples_split=4, score=0.9642000369071785, total=  10.5s\n",
      "[CV] clf__class_weight=None, clf__criterion=gini, clf__max_depth=10, clf__min_samples_leaf=1, clf__min_samples_split=5 \n",
      "[CV]  clf__class_weight=None, clf__criterion=gini, clf__max_depth=10, clf__min_samples_leaf=1, clf__min_samples_split=4, score=0.9643845727994095, total=   8.3s\n",
      "[CV] clf__class_weight=None, clf__criterion=gini, clf__max_depth=10, clf__min_samples_leaf=1, clf__min_samples_split=5 \n",
      "[CV]  clf__class_weight=None, clf__criterion=gini, clf__max_depth=10, clf__min_samples_leaf=1, clf__min_samples_split=4, score=0.9684443624284923, total=   8.5s\n",
      "[CV]  clf__class_weight=None, clf__criterion=gini, clf__max_depth=10, clf__min_samples_leaf=1, clf__min_samples_split=4, score=0.9632705795496493, total=   8.4s\n",
      "[CV] clf__class_weight=None, clf__criterion=gini, clf__max_depth=10, clf__min_samples_leaf=1, clf__min_samples_split=5 \n"
     ]
    },
    {
     "name": "stderr",
     "output_type": "stream",
     "text": [
      "[Parallel(n_jobs=-1)]: Done  26 tasks      | elapsed:   35.7s\n"
     ]
    },
    {
     "name": "stdout",
     "output_type": "stream",
     "text": [
      "[CV] clf__class_weight=None, clf__criterion=gini, clf__max_depth=10, clf__min_samples_leaf=1, clf__min_samples_split=5 \n",
      "[CV]  clf__class_weight=None, clf__criterion=gini, clf__max_depth=10, clf__min_samples_leaf=1, clf__min_samples_split=4, score=0.9641934293097084, total=   8.8s\n",
      "[CV] clf__class_weight=None, clf__criterion=gini, clf__max_depth=10, clf__min_samples_leaf=1, clf__min_samples_split=5 \n",
      "[CV]  clf__class_weight=None, clf__criterion=gini, clf__max_depth=10, clf__min_samples_leaf=1, clf__min_samples_split=4, score=0.9636330071995569, total=  10.2s\n",
      "[CV] clf__class_weight=None, clf__criterion=gini, clf__max_depth=10, clf__min_samples_leaf=1, clf__min_samples_split=6 \n",
      "[CV]  clf__class_weight=None, clf__criterion=gini, clf__max_depth=10, clf__min_samples_leaf=1, clf__min_samples_split=4, score=0.9636330071995569, total=  10.5s\n",
      "[CV] clf__class_weight=None, clf__criterion=gini, clf__max_depth=10, clf__min_samples_leaf=1, clf__min_samples_split=6 \n",
      "[CV]  clf__class_weight=None, clf__criterion=gini, clf__max_depth=10, clf__min_samples_leaf=1, clf__min_samples_split=5, score=0.9638309651227164, total=  10.5s\n",
      "[CV]  clf__class_weight=None, clf__criterion=gini, clf__max_depth=10, clf__min_samples_leaf=1, clf__min_samples_split=5, score=0.9662299317217199, total=  10.4s\n",
      "[CV]  clf__class_weight=None, clf__criterion=gini, clf__max_depth=10, clf__min_samples_leaf=1, clf__min_samples_split=5, score=0.9643845727994095, total=  10.5s\n",
      "[CV]  clf__class_weight=None, clf__criterion=gini, clf__max_depth=10, clf__min_samples_leaf=1, clf__min_samples_split=5, score=0.9647536445838716, total=  10.4s\n",
      "[CV] clf__class_weight=None, clf__criterion=gini, clf__max_depth=10, clf__min_samples_leaf=1, clf__min_samples_split=6 \n",
      "[CV]  clf__class_weight=None, clf__criterion=gini, clf__max_depth=10, clf__min_samples_leaf=1, clf__min_samples_split=5, score=0.9643845727994095, total=  10.3s\n",
      "[CV] clf__class_weight=None, clf__criterion=gini, clf__max_depth=10, clf__min_samples_leaf=1, clf__min_samples_split=6 \n",
      "[CV] clf__class_weight=None, clf__criterion=gini, clf__max_depth=10, clf__min_samples_leaf=1, clf__min_samples_split=6 \n",
      "[CV] clf__class_weight=None, clf__criterion=gini, clf__max_depth=10, clf__min_samples_leaf=1, clf__min_samples_split=6 \n",
      "[CV] clf__class_weight=None, clf__criterion=gini, clf__max_depth=10, clf__min_samples_leaf=1, clf__min_samples_split=6 \n",
      "[CV]  clf__class_weight=None, clf__criterion=gini, clf__max_depth=10, clf__min_samples_leaf=1, clf__min_samples_split=5, score=0.9658608599372578, total=  10.6s\n",
      "[CV] clf__class_weight=None, clf__criterion=gini, clf__max_depth=10, clf__min_samples_leaf=1, clf__min_samples_split=6 \n",
      "[CV]  clf__class_weight=None, clf__criterion=gini, clf__max_depth=10, clf__min_samples_leaf=1, clf__min_samples_split=5, score=0.9632705795496493, total=   8.1s\n",
      "[CV] clf__class_weight=None, clf__criterion=gini, clf__max_depth=10, clf__min_samples_leaf=1, clf__min_samples_split=6 \n",
      "[CV]  clf__class_weight=None, clf__criterion=gini, clf__max_depth=10, clf__min_samples_leaf=1, clf__min_samples_split=5, score=0.9641934293097084, total=   8.2s\n"
     ]
    },
    {
     "name": "stderr",
     "output_type": "stream",
     "text": [
      "[Parallel(n_jobs=-1)]: Done  37 tasks      | elapsed:   47.2s\n"
     ]
    },
    {
     "name": "stdout",
     "output_type": "stream",
     "text": [
      "[CV] clf__class_weight=None, clf__criterion=gini, clf__max_depth=10, clf__min_samples_leaf=1, clf__min_samples_split=6 \n",
      "[CV]  clf__class_weight=None, clf__criterion=gini, clf__max_depth=10, clf__min_samples_leaf=1, clf__min_samples_split=5, score=0.9640022152482924, total=   8.5s\n",
      "[CV] clf__class_weight=None, clf__criterion=gini, clf__max_depth=10, clf__min_samples_leaf=1, clf__min_samples_split=7 \n",
      "[CV]  clf__class_weight=None, clf__criterion=gini, clf__max_depth=10, clf__min_samples_leaf=1, clf__min_samples_split=5, score=0.9645560273213956, total=   9.5s\n",
      "[CV] clf__class_weight=None, clf__criterion=gini, clf__max_depth=10, clf__min_samples_leaf=1, clf__min_samples_split=7 \n",
      "[CV]  clf__class_weight=None, clf__criterion=gini, clf__max_depth=10, clf__min_samples_leaf=1, clf__min_samples_split=6, score=0.9636464292304854, total=   9.9s\n",
      "[CV] clf__class_weight=None, clf__criterion=gini, clf__max_depth=10, clf__min_samples_leaf=1, clf__min_samples_split=7 \n",
      "[CV]  clf__class_weight=None, clf__criterion=gini, clf__max_depth=10, clf__min_samples_leaf=1, clf__min_samples_split=6, score=0.9640155010149474, total=   9.9s\n",
      "[CV]  clf__class_weight=None, clf__criterion=gini, clf__max_depth=10, clf__min_samples_leaf=1, clf__min_samples_split=6, score=0.9645691086916405, total=   9.6s\n",
      "[CV]  clf__class_weight=None, clf__criterion=gini, clf__max_depth=10, clf__min_samples_leaf=1, clf__min_samples_split=6, score=0.966599003506182, total=   9.7s\n",
      "[CV] clf__class_weight=None, clf__criterion=gini, clf__max_depth=10, clf__min_samples_leaf=1, clf__min_samples_split=7 \n",
      "[CV]  clf__class_weight=None, clf__criterion=gini, clf__max_depth=10, clf__min_samples_leaf=1, clf__min_samples_split=6, score=0.9640155010149474, total=   9.6s\n",
      "[CV] clf__class_weight=None, clf__criterion=gini, clf__max_depth=10, clf__min_samples_leaf=1, clf__min_samples_split=7 \n",
      "[CV]  clf__class_weight=None, clf__criterion=gini, clf__max_depth=10, clf__min_samples_leaf=1, clf__min_samples_split=6, score=0.9636464292304854, total=   9.7s\n",
      "[CV]  clf__class_weight=None, clf__criterion=gini, clf__max_depth=10, clf__min_samples_leaf=1, clf__min_samples_split=6, score=0.9632705795496493, total=   9.6s\n",
      "[CV] clf__class_weight=None, clf__criterion=gini, clf__max_depth=10, clf__min_samples_leaf=1, clf__min_samples_split=7 \n",
      "[CV] clf__class_weight=None, clf__criterion=gini, clf__max_depth=10, clf__min_samples_leaf=1, clf__min_samples_split=7 \n",
      "[CV] clf__class_weight=None, clf__criterion=gini, clf__max_depth=10, clf__min_samples_leaf=1, clf__min_samples_split=7 \n",
      "[CV] clf__class_weight=None, clf__criterion=gini, clf__max_depth=10, clf__min_samples_leaf=1, clf__min_samples_split=7 \n",
      "[CV]  clf__class_weight=None, clf__criterion=gini, clf__max_depth=10, clf__min_samples_leaf=1, clf__min_samples_split=6, score=0.9641934293097084, total=   9.6s\n",
      "[CV] clf__class_weight=None, clf__criterion=gini, clf__max_depth=10, clf__min_samples_leaf=1, clf__min_samples_split=7 \n"
     ]
    },
    {
     "name": "stderr",
     "output_type": "stream",
     "text": [
      "[Parallel(n_jobs=-1)]: Done  48 tasks      | elapsed:   50.3s\n"
     ]
    },
    {
     "name": "stdout",
     "output_type": "stream",
     "text": [
      "[CV]  clf__class_weight=None, clf__criterion=gini, clf__max_depth=10, clf__min_samples_leaf=1, clf__min_samples_split=6, score=0.9640022152482924, total=   6.9s\n",
      "[CV]  clf__class_weight=None, clf__criterion=gini, clf__max_depth=10, clf__min_samples_leaf=1, clf__min_samples_split=6, score=0.9640022152482924, total=   7.1s\n",
      "[CV] clf__class_weight=None, clf__criterion=gini, clf__max_depth=10, clf__min_samples_leaf=1, clf__min_samples_split=8 \n",
      "[CV] clf__class_weight=None, clf__criterion=gini, clf__max_depth=10, clf__min_samples_leaf=1, clf__min_samples_split=8 \n",
      "[CV]  clf__class_weight=None, clf__criterion=gini, clf__max_depth=10, clf__min_samples_leaf=1, clf__min_samples_split=7, score=0.9636464292304854, total=   7.7s\n",
      "[CV] clf__class_weight=None, clf__criterion=gini, clf__max_depth=10, clf__min_samples_leaf=1, clf__min_samples_split=8 \n",
      "[CV]  clf__class_weight=None, clf__criterion=gini, clf__max_depth=10, clf__min_samples_leaf=1, clf__min_samples_split=7, score=0.9645691086916405, total=   8.2s\n",
      "[CV] clf__class_weight=None, clf__criterion=gini, clf__max_depth=10, clf__min_samples_leaf=1, clf__min_samples_split=8 \n",
      "[CV]  clf__class_weight=None, clf__criterion=gini, clf__max_depth=10, clf__min_samples_leaf=1, clf__min_samples_split=7, score=0.9645691086916405, total=   9.3s\n",
      "[CV] clf__class_weight=None, clf__criterion=gini, clf__max_depth=10, clf__min_samples_leaf=1, clf__min_samples_split=8 \n",
      "[CV]  clf__class_weight=None, clf__criterion=gini, clf__max_depth=10, clf__min_samples_leaf=1, clf__min_samples_split=7, score=0.9638309651227164, total=   9.4s\n",
      "[CV] clf__class_weight=None, clf__criterion=gini, clf__max_depth=10, clf__min_samples_leaf=1, clf__min_samples_split=8 \n",
      "[CV]  clf__class_weight=None, clf__criterion=gini, clf__max_depth=10, clf__min_samples_leaf=1, clf__min_samples_split=7, score=0.9638309651227164, total=   9.6s\n",
      "[CV]  clf__class_weight=None, clf__criterion=gini, clf__max_depth=10, clf__min_samples_leaf=1, clf__min_samples_split=7, score=0.9640155010149474, total=   9.5s\n",
      "[CV]  clf__class_weight=None, clf__criterion=gini, clf__max_depth=10, clf__min_samples_leaf=1, clf__min_samples_split=7, score=0.9649317091177556, total=   9.5s\n",
      "[CV] clf__class_weight=None, clf__criterion=gini, clf__max_depth=10, clf__min_samples_leaf=1, clf__min_samples_split=8 \n",
      "[CV] clf__class_weight=None, clf__criterion=gini, clf__max_depth=10, clf__min_samples_leaf=1, clf__min_samples_split=8 \n",
      "[CV] clf__class_weight=None, clf__criterion=gini, clf__max_depth=10, clf__min_samples_leaf=1, clf__min_samples_split=8 \n",
      "[CV]  clf__class_weight=None, clf__criterion=gini, clf__max_depth=10, clf__min_samples_leaf=1, clf__min_samples_split=7, score=0.965485418973791, total=   9.6s\n",
      "[CV] clf__class_weight=None, clf__criterion=gini, clf__max_depth=10, clf__min_samples_leaf=1, clf__min_samples_split=8 \n",
      "[CV]  clf__class_weight=None, clf__criterion=gini, clf__max_depth=10, clf__min_samples_leaf=1, clf__min_samples_split=7, score=0.9640022152482924, total=   9.7s\n",
      "[CV] clf__class_weight=None, clf__criterion=gini, clf__max_depth=10, clf__min_samples_leaf=1, clf__min_samples_split=9 \n",
      "[CV]  clf__class_weight=None, clf__criterion=gini, clf__max_depth=10, clf__min_samples_leaf=1, clf__min_samples_split=7, score=0.9640022152482924, total=  10.7s\n",
      "[CV] clf__class_weight=None, clf__criterion=gini, clf__max_depth=10, clf__min_samples_leaf=1, clf__min_samples_split=9 \n",
      "[CV]  clf__class_weight=None, clf__criterion=gini, clf__max_depth=10, clf__min_samples_leaf=1, clf__min_samples_split=8, score=0.9643845727994095, total=   7.9s\n",
      "[CV]  clf__class_weight=None, clf__criterion=gini, clf__max_depth=10, clf__min_samples_leaf=1, clf__min_samples_split=8, score=0.9653072522605647, total=   8.1s\n",
      "[CV] clf__class_weight=None, clf__criterion=gini, clf__max_depth=10, clf__min_samples_leaf=1, clf__min_samples_split=9 \n"
     ]
    },
    {
     "name": "stderr",
     "output_type": "stream",
     "text": [
      "[Parallel(n_jobs=-1)]: Done  61 tasks      | elapsed:  1.2min\n"
     ]
    },
    {
     "name": "stdout",
     "output_type": "stream",
     "text": [
      "[CV]  clf__class_weight=None, clf__criterion=gini, clf__max_depth=10, clf__min_samples_leaf=1, clf__min_samples_split=8, score=0.9660453958294888, total=   7.9s\n",
      "[CV] clf__class_weight=None, clf__criterion=gini, clf__max_depth=10, clf__min_samples_leaf=1, clf__min_samples_split=9 \n",
      "[CV] clf__class_weight=None, clf__criterion=gini, clf__max_depth=10, clf__min_samples_leaf=1, clf__min_samples_split=9 \n",
      "[CV]  clf__class_weight=None, clf__criterion=gini, clf__max_depth=10, clf__min_samples_leaf=1, clf__min_samples_split=8, score=0.9658608599372578, total=   8.9s\n",
      "[CV] clf__class_weight=None, clf__criterion=gini, clf__max_depth=10, clf__min_samples_leaf=1, clf__min_samples_split=9 \n",
      "[CV]  clf__class_weight=None, clf__criterion=gini, clf__max_depth=10, clf__min_samples_leaf=1, clf__min_samples_split=8, score=0.9590330319247093, total=   9.8s\n",
      "[CV] clf__class_weight=None, clf__criterion=gini, clf__max_depth=10, clf__min_samples_leaf=1, clf__min_samples_split=9 \n",
      "[CV]  clf__class_weight=None, clf__criterion=gini, clf__max_depth=10, clf__min_samples_leaf=1, clf__min_samples_split=8, score=0.9640155010149474, total=   9.8s\n",
      "[CV] clf__class_weight=None, clf__criterion=gini, clf__max_depth=10, clf__min_samples_leaf=1, clf__min_samples_split=9 \n",
      "[CV]  clf__class_weight=None, clf__criterion=gini, clf__max_depth=10, clf__min_samples_leaf=1, clf__min_samples_split=8, score=0.9647471391657438, total=  10.0s\n",
      "[CV]  clf__class_weight=None, clf__criterion=gini, clf__max_depth=10, clf__min_samples_leaf=1, clf__min_samples_split=8, score=0.9647471391657438, total=  10.0s\n",
      "[CV]  clf__class_weight=None, clf__criterion=gini, clf__max_depth=10, clf__min_samples_leaf=1, clf__min_samples_split=8, score=0.9641868192726601, total=  10.0s\n",
      "[CV] clf__class_weight=None, clf__criterion=gini, clf__max_depth=10, clf__min_samples_leaf=1, clf__min_samples_split=9 \n",
      "[CV] clf__class_weight=None, clf__criterion=gini, clf__max_depth=10, clf__min_samples_leaf=1, clf__min_samples_split=9 \n",
      "[CV] clf__class_weight=None, clf__criterion=gini, clf__max_depth=10, clf__min_samples_leaf=1, clf__min_samples_split=10 \n",
      "[CV]  clf__class_weight=None, clf__criterion=gini, clf__max_depth=10, clf__min_samples_leaf=1, clf__min_samples_split=8, score=0.9638176112239247, total=  10.0s\n",
      "[CV]  clf__class_weight=None, clf__criterion=gini, clf__max_depth=10, clf__min_samples_leaf=1, clf__min_samples_split=9, score=0.9654917881527957, total=  10.1s\n",
      "[CV] clf__class_weight=None, clf__criterion=gini, clf__max_depth=10, clf__min_samples_leaf=1, clf__min_samples_split=10 \n",
      "[CV] clf__class_weight=None, clf__criterion=gini, clf__max_depth=10, clf__min_samples_leaf=1, clf__min_samples_split=10 \n",
      "[CV]  clf__class_weight=None, clf__criterion=gini, clf__max_depth=10, clf__min_samples_leaf=1, clf__min_samples_split=9, score=0.9643845727994095, total=  10.0s\n",
      "[CV] clf__class_weight=None, clf__criterion=gini, clf__max_depth=10, clf__min_samples_leaf=1, clf__min_samples_split=10 \n",
      "[CV]  clf__class_weight=None, clf__criterion=gini, clf__max_depth=10, clf__min_samples_leaf=1, clf__min_samples_split=9, score=0.9621701420926371, total=   9.4s\n",
      "[CV]  clf__class_weight=None, clf__criterion=gini, clf__max_depth=10, clf__min_samples_leaf=1, clf__min_samples_split=9, score=0.9645691086916405, total=   9.3s\n",
      "[CV] clf__class_weight=None, clf__criterion=gini, clf__max_depth=10, clf__min_samples_leaf=1, clf__min_samples_split=10 \n"
     ]
    },
    {
     "name": "stderr",
     "output_type": "stream",
     "text": [
      "[Parallel(n_jobs=-1)]: Done  74 tasks      | elapsed:  1.3min\n"
     ]
    },
    {
     "name": "stdout",
     "output_type": "stream",
     "text": [
      "[CV] clf__class_weight=None, clf__criterion=gini, clf__max_depth=10, clf__min_samples_leaf=1, clf__min_samples_split=10 \n",
      "[CV]  clf__class_weight=None, clf__criterion=gini, clf__max_depth=10, clf__min_samples_leaf=1, clf__min_samples_split=9, score=0.9638309651227164, total=   9.4s\n",
      "[CV]  clf__class_weight=None, clf__criterion=gini, clf__max_depth=10, clf__min_samples_leaf=1, clf__min_samples_split=9, score=0.9640155010149474, total=   9.0s\n",
      "[CV] clf__class_weight=None, clf__criterion=gini, clf__max_depth=10, clf__min_samples_leaf=1, clf__min_samples_split=10 \n",
      "[CV] clf__class_weight=None, clf__criterion=gini, clf__max_depth=10, clf__min_samples_leaf=1, clf__min_samples_split=10 \n",
      "[CV]  clf__class_weight=None, clf__criterion=gini, clf__max_depth=10, clf__min_samples_leaf=1, clf__min_samples_split=9, score=0.9641934293097084, total=   8.9s\n",
      "[CV] clf__class_weight=None, clf__criterion=gini, clf__max_depth=10, clf__min_samples_leaf=1, clf__min_samples_split=10 \n",
      "[CV]  clf__class_weight=None, clf__criterion=gini, clf__max_depth=10, clf__min_samples_leaf=1, clf__min_samples_split=9, score=0.964562569213732, total=   9.1s\n",
      "[CV] clf__class_weight=None, clf__criterion=gini, clf__max_depth=10, clf__min_samples_leaf=1, clf__min_samples_split=10 \n",
      "[CV]  clf__class_weight=None, clf__criterion=gini, clf__max_depth=10, clf__min_samples_leaf=1, clf__min_samples_split=9, score=0.9640022152482924, total=  10.4s\n",
      "[CV] clf__class_weight=None, clf__criterion=gini, clf__max_depth=10, clf__min_samples_leaf=2, clf__min_samples_split=2 \n",
      "[CV]  clf__class_weight=None, clf__criterion=gini, clf__max_depth=10, clf__min_samples_leaf=1, clf__min_samples_split=10, score=0.9643845727994095, total=  10.2s\n",
      "[CV]  clf__class_weight=None, clf__criterion=gini, clf__max_depth=10, clf__min_samples_leaf=1, clf__min_samples_split=9, score=0.9641868192726601, total=  10.5s\n",
      "[CV]  clf__class_weight=None, clf__criterion=gini, clf__max_depth=10, clf__min_samples_leaf=1, clf__min_samples_split=10, score=0.9632773574460233, total=  10.4s\n",
      "[CV] clf__class_weight=None, clf__criterion=gini, clf__max_depth=10, clf__min_samples_leaf=2, clf__min_samples_split=2 \n",
      "[CV]  clf__class_weight=None, clf__criterion=gini, clf__max_depth=10, clf__min_samples_leaf=1, clf__min_samples_split=10, score=0.961985606200406, total=  10.3s\n",
      "[CV] clf__class_weight=None, clf__criterion=gini, clf__max_depth=10, clf__min_samples_leaf=2, clf__min_samples_split=2 \n",
      "[CV] clf__class_weight=None, clf__criterion=gini, clf__max_depth=10, clf__min_samples_leaf=2, clf__min_samples_split=2 \n",
      "[CV] clf__class_weight=None, clf__criterion=gini, clf__max_depth=10, clf__min_samples_leaf=2, clf__min_samples_split=2 \n",
      "[CV]  clf__class_weight=None, clf__criterion=gini, clf__max_depth=10, clf__min_samples_leaf=1, clf__min_samples_split=10, score=0.9642000369071785, total=   9.7s\n",
      "[CV] clf__class_weight=None, clf__criterion=gini, clf__max_depth=10, clf__min_samples_leaf=2, clf__min_samples_split=2 \n",
      "[CV]  clf__class_weight=None, clf__criterion=gini, clf__max_depth=10, clf__min_samples_leaf=1, clf__min_samples_split=10, score=0.9640155010149474, total=   8.0s\n",
      "[CV] clf__class_weight=None, clf__criterion=gini, clf__max_depth=10, clf__min_samples_leaf=2, clf__min_samples_split=2 \n",
      "[CV]  clf__class_weight=None, clf__criterion=gini, clf__max_depth=10, clf__min_samples_leaf=1, clf__min_samples_split=10, score=0.9642000369071785, total=   8.5s\n",
      "[CV]  clf__class_weight=None, clf__criterion=gini, clf__max_depth=10, clf__min_samples_leaf=1, clf__min_samples_split=10, score=0.963639719453673, total=   8.2s\n",
      "[CV]  clf__class_weight=None, clf__criterion=gini, clf__max_depth=10, clf__min_samples_leaf=1, clf__min_samples_split=10, score=0.9640088593576965, total=   8.0s\n",
      "[CV] clf__class_weight=None, clf__criterion=gini, clf__max_depth=10, clf__min_samples_leaf=2, clf__min_samples_split=2 \n",
      "[CV] clf__class_weight=None, clf__criterion=gini, clf__max_depth=10, clf__min_samples_leaf=2, clf__min_samples_split=2 \n",
      "[CV] clf__class_weight=None, clf__criterion=gini, clf__max_depth=10, clf__min_samples_leaf=2, clf__min_samples_split=2 \n",
      "[CV]  clf__class_weight=None, clf__criterion=gini, clf__max_depth=10, clf__min_samples_leaf=1, clf__min_samples_split=10, score=0.9641868192726601, total=   8.4s\n",
      "[CV] clf__class_weight=None, clf__criterion=gini, clf__max_depth=10, clf__min_samples_leaf=2, clf__min_samples_split=3 \n"
     ]
    },
    {
     "name": "stderr",
     "output_type": "stream",
     "text": [
      "[Parallel(n_jobs=-1)]: Done  89 tasks      | elapsed:  1.6min\n"
     ]
    },
    {
     "name": "stdout",
     "output_type": "stream",
     "text": [
      "[CV]  clf__class_weight=None, clf__criterion=gini, clf__max_depth=10, clf__min_samples_leaf=1, clf__min_samples_split=10, score=0.9641868192726601, total=   8.7s\n",
      "[CV] clf__class_weight=None, clf__criterion=gini, clf__max_depth=10, clf__min_samples_leaf=2, clf__min_samples_split=3 \n",
      "[CV]  clf__class_weight=None, clf__criterion=gini, clf__max_depth=10, clf__min_samples_leaf=2, clf__min_samples_split=2, score=0.9640155010149474, total=  10.0s\n",
      "[CV]  clf__class_weight=None, clf__criterion=gini, clf__max_depth=10, clf__min_samples_leaf=2, clf__min_samples_split=2, score=0.9642000369071785, total=  10.1s\n",
      "[CV] clf__class_weight=None, clf__criterion=gini, clf__max_depth=10, clf__min_samples_leaf=2, clf__min_samples_split=3 \n",
      "[CV]  clf__class_weight=None, clf__criterion=gini, clf__max_depth=10, clf__min_samples_leaf=2, clf__min_samples_split=2, score=0.9642000369071785, total=  10.0s\n",
      "[CV] clf__class_weight=None, clf__criterion=gini, clf__max_depth=10, clf__min_samples_leaf=2, clf__min_samples_split=3 \n",
      "[CV]  clf__class_weight=None, clf__criterion=gini, clf__max_depth=10, clf__min_samples_leaf=2, clf__min_samples_split=2, score=0.9640155010149474, total=  10.2s\n",
      "[CV] clf__class_weight=None, clf__criterion=gini, clf__max_depth=10, clf__min_samples_leaf=2, clf__min_samples_split=3 \n",
      "[CV]  clf__class_weight=None, clf__criterion=gini, clf__max_depth=10, clf__min_samples_leaf=2, clf__min_samples_split=2, score=0.9645691086916405, total=  10.3s\n",
      "[CV] clf__class_weight=None, clf__criterion=gini, clf__max_depth=10, clf__min_samples_leaf=2, clf__min_samples_split=3 \n",
      "[CV] clf__class_weight=None, clf__criterion=gini, clf__max_depth=10, clf__min_samples_leaf=2, clf__min_samples_split=3 \n",
      "[CV]  clf__class_weight=None, clf__criterion=gini, clf__max_depth=10, clf__min_samples_leaf=2, clf__min_samples_split=2, score=0.9640155010149474, total=  10.5s\n",
      "[CV] clf__class_weight=None, clf__criterion=gini, clf__max_depth=10, clf__min_samples_leaf=2, clf__min_samples_split=3 \n",
      "[CV]  clf__class_weight=None, clf__criterion=gini, clf__max_depth=10, clf__min_samples_leaf=2, clf__min_samples_split=2, score=0.9643779992617202, total=   9.8s\n",
      "[CV]  clf__class_weight=None, clf__criterion=gini, clf__max_depth=10, clf__min_samples_leaf=2, clf__min_samples_split=2, score=0.9640088593576965, total=   9.3s\n",
      "[CV] clf__class_weight=None, clf__criterion=gini, clf__max_depth=10, clf__min_samples_leaf=2, clf__min_samples_split=3 \n",
      "[CV]  clf__class_weight=None, clf__criterion=gini, clf__max_depth=10, clf__min_samples_leaf=2, clf__min_samples_split=2, score=0.9641868192726601, total=   9.3s\n",
      "[CV] clf__class_weight=None, clf__criterion=gini, clf__max_depth=10, clf__min_samples_leaf=2, clf__min_samples_split=3 \n",
      "[CV] clf__class_weight=None, clf__criterion=gini, clf__max_depth=10, clf__min_samples_leaf=2, clf__min_samples_split=4 \n",
      "[CV]  clf__class_weight=None, clf__criterion=gini, clf__max_depth=10, clf__min_samples_leaf=2, clf__min_samples_split=2, score=0.9643714232970279, total=   9.8s\n",
      "[CV] clf__class_weight=None, clf__criterion=gini, clf__max_depth=10, clf__min_samples_leaf=2, clf__min_samples_split=4 \n",
      "[CV]  clf__class_weight=None, clf__criterion=gini, clf__max_depth=10, clf__min_samples_leaf=2, clf__min_samples_split=3, score=0.9638309651227164, total=   9.2s\n",
      "[CV] clf__class_weight=None, clf__criterion=gini, clf__max_depth=10, clf__min_samples_leaf=2, clf__min_samples_split=4 \n",
      "[CV]  clf__class_weight=None, clf__criterion=gini, clf__max_depth=10, clf__min_samples_leaf=2, clf__min_samples_split=3, score=0.9642000369071785, total=   9.3s\n",
      "[CV] clf__class_weight=None, clf__criterion=gini, clf__max_depth=10, clf__min_samples_leaf=2, clf__min_samples_split=4 \n",
      "[CV]  clf__class_weight=None, clf__criterion=gini, clf__max_depth=10, clf__min_samples_leaf=2, clf__min_samples_split=3, score=0.9643845727994095, total=  10.1s\n",
      "[CV]  clf__class_weight=None, clf__criterion=gini, clf__max_depth=10, clf__min_samples_leaf=2, clf__min_samples_split=3, score=0.9638309651227164, total=  10.2s\n",
      "[CV] clf__class_weight=None, clf__criterion=gini, clf__max_depth=10, clf__min_samples_leaf=2, clf__min_samples_split=4 \n",
      "[CV] clf__class_weight=None, clf__criterion=gini, clf__max_depth=10, clf__min_samples_leaf=2, clf__min_samples_split=4 \n"
     ]
    },
    {
     "name": "stderr",
     "output_type": "stream",
     "text": [
      "[Parallel(n_jobs=-1)]: Done 104 tasks      | elapsed:  1.8min\n"
     ]
    },
    {
     "name": "stdout",
     "output_type": "stream",
     "text": [
      "[CV]  clf__class_weight=None, clf__criterion=gini, clf__max_depth=10, clf__min_samples_leaf=2, clf__min_samples_split=3, score=0.9636464292304854, total=  10.1s\n",
      "[CV]  clf__class_weight=None, clf__criterion=gini, clf__max_depth=10, clf__min_samples_leaf=2, clf__min_samples_split=3, score=0.9638309651227164, total=  10.2s\n",
      "[CV] clf__class_weight=None, clf__criterion=gini, clf__max_depth=10, clf__min_samples_leaf=2, clf__min_samples_split=4 \n",
      "[CV]  clf__class_weight=None, clf__criterion=gini, clf__max_depth=10, clf__min_samples_leaf=2, clf__min_samples_split=3, score=0.9643779992617202, total=  10.1s\n",
      "[CV] clf__class_weight=None, clf__criterion=gini, clf__max_depth=10, clf__min_samples_leaf=2, clf__min_samples_split=4 \n",
      "[CV] clf__class_weight=None, clf__criterion=gini, clf__max_depth=10, clf__min_samples_leaf=2, clf__min_samples_split=4 \n",
      "[CV]  clf__class_weight=None, clf__criterion=gini, clf__max_depth=10, clf__min_samples_leaf=2, clf__min_samples_split=3, score=0.9640088593576965, total=  10.2s\n",
      "[CV] clf__class_weight=None, clf__criterion=gini, clf__max_depth=10, clf__min_samples_leaf=2, clf__min_samples_split=4 \n",
      "[CV]  clf__class_weight=None, clf__criterion=gini, clf__max_depth=10, clf__min_samples_leaf=2, clf__min_samples_split=3, score=0.9641868192726601, total=   9.5s\n",
      "[CV]  clf__class_weight=None, clf__criterion=gini, clf__max_depth=10, clf__min_samples_leaf=2, clf__min_samples_split=3, score=0.9647406313457634, total=   9.5s\n",
      "[CV] clf__class_weight=None, clf__criterion=gini, clf__max_depth=10, clf__min_samples_leaf=2, clf__min_samples_split=5 \n",
      "[CV]  clf__class_weight=None, clf__criterion=gini, clf__max_depth=10, clf__min_samples_leaf=2, clf__min_samples_split=4, score=0.9636464292304854, total=   9.3s\n",
      "[CV] clf__class_weight=None, clf__criterion=gini, clf__max_depth=10, clf__min_samples_leaf=2, clf__min_samples_split=5 \n",
      "[CV] clf__class_weight=None, clf__criterion=gini, clf__max_depth=10, clf__min_samples_leaf=2, clf__min_samples_split=5 \n",
      "[CV]  clf__class_weight=None, clf__criterion=gini, clf__max_depth=10, clf__min_samples_leaf=2, clf__min_samples_split=4, score=0.9643845727994095, total=   9.2s\n",
      "[CV]  clf__class_weight=None, clf__criterion=gini, clf__max_depth=10, clf__min_samples_leaf=2, clf__min_samples_split=4, score=0.9645691086916405, total=   9.0s\n",
      "[CV] clf__class_weight=None, clf__criterion=gini, clf__max_depth=10, clf__min_samples_leaf=2, clf__min_samples_split=5 \n",
      "[CV] clf__class_weight=None, clf__criterion=gini, clf__max_depth=10, clf__min_samples_leaf=2, clf__min_samples_split=5 \n",
      "[CV]  clf__class_weight=None, clf__criterion=gini, clf__max_depth=10, clf__min_samples_leaf=2, clf__min_samples_split=4, score=0.9658608599372578, total=   9.6s\n",
      "[CV] clf__class_weight=None, clf__criterion=gini, clf__max_depth=10, clf__min_samples_leaf=2, clf__min_samples_split=5 \n",
      "[CV]  clf__class_weight=None, clf__criterion=gini, clf__max_depth=10, clf__min_samples_leaf=2, clf__min_samples_split=4, score=0.9653072522605647, total=  10.1s\n",
      "[CV] clf__class_weight=None, clf__criterion=gini, clf__max_depth=10, clf__min_samples_leaf=2, clf__min_samples_split=5 \n",
      "[CV]  clf__class_weight=None, clf__criterion=gini, clf__max_depth=10, clf__min_samples_leaf=2, clf__min_samples_split=4, score=0.9647536445838716, total=  10.3s\n",
      "[CV]  clf__class_weight=None, clf__criterion=gini, clf__max_depth=10, clf__min_samples_leaf=2, clf__min_samples_split=4, score=0.964562569213732, total=   9.9s\n",
      "[CV] clf__class_weight=None, clf__criterion=gini, clf__max_depth=10, clf__min_samples_leaf=2, clf__min_samples_split=5 \n",
      "[CV] clf__class_weight=None, clf__criterion=gini, clf__max_depth=10, clf__min_samples_leaf=2, clf__min_samples_split=5 \n",
      "[CV]  clf__class_weight=None, clf__criterion=gini, clf__max_depth=10, clf__min_samples_leaf=2, clf__min_samples_split=4, score=0.9641934293097084, total=  10.0s\n",
      "[CV] clf__class_weight=None, clf__criterion=gini, clf__max_depth=10, clf__min_samples_leaf=2, clf__min_samples_split=5 \n",
      "[CV]  clf__class_weight=None, clf__criterion=gini, clf__max_depth=10, clf__min_samples_leaf=2, clf__min_samples_split=4, score=0.9641868192726601, total=  10.0s\n",
      "[CV] clf__class_weight=None, clf__criterion=gini, clf__max_depth=10, clf__min_samples_leaf=2, clf__min_samples_split=6 \n",
      "[CV]  clf__class_weight=None, clf__criterion=gini, clf__max_depth=10, clf__min_samples_leaf=2, clf__min_samples_split=4, score=0.9647406313457634, total=   9.8s\n",
      "[CV] clf__class_weight=None, clf__criterion=gini, clf__max_depth=10, clf__min_samples_leaf=2, clf__min_samples_split=6 \n",
      "[CV]  clf__class_weight=None, clf__criterion=gini, clf__max_depth=10, clf__min_samples_leaf=2, clf__min_samples_split=5, score=0.9662299317217199, total=   9.0s\n",
      "[CV] clf__class_weight=None, clf__criterion=gini, clf__max_depth=10, clf__min_samples_leaf=2, clf__min_samples_split=6 \n"
     ]
    },
    {
     "name": "stderr",
     "output_type": "stream",
     "text": [
      "[Parallel(n_jobs=-1)]: Done 121 tasks      | elapsed:  2.1min\n"
     ]
    },
    {
     "name": "stdout",
     "output_type": "stream",
     "text": [
      "[CV]  clf__class_weight=None, clf__criterion=gini, clf__max_depth=10, clf__min_samples_leaf=2, clf__min_samples_split=5, score=0.9664144676139509, total=   9.1s\n",
      "[CV]  clf__class_weight=None, clf__criterion=gini, clf__max_depth=10, clf__min_samples_leaf=2, clf__min_samples_split=5, score=0.9642000369071785, total=   9.2s\n",
      "[CV]  clf__class_weight=None, clf__criterion=gini, clf__max_depth=10, clf__min_samples_leaf=2, clf__min_samples_split=5, score=0.9645691086916405, total=   8.7s\n",
      "[CV] clf__class_weight=None, clf__criterion=gini, clf__max_depth=10, clf__min_samples_leaf=2, clf__min_samples_split=6 \n",
      "[CV] clf__class_weight=None, clf__criterion=gini, clf__max_depth=10, clf__min_samples_leaf=2, clf__min_samples_split=6 \n",
      "[CV] clf__class_weight=None, clf__criterion=gini, clf__max_depth=10, clf__min_samples_leaf=2, clf__min_samples_split=6 \n",
      "[CV]  clf__class_weight=None, clf__criterion=gini, clf__max_depth=10, clf__min_samples_leaf=2, clf__min_samples_split=5, score=0.9642000369071785, total=   9.0s\n",
      "[CV] clf__class_weight=None, clf__criterion=gini, clf__max_depth=10, clf__min_samples_leaf=2, clf__min_samples_split=6 \n",
      "[CV]  clf__class_weight=None, clf__criterion=gini, clf__max_depth=10, clf__min_samples_leaf=2, clf__min_samples_split=5, score=0.9638309651227164, total=   8.8s\n",
      "[CV] clf__class_weight=None, clf__criterion=gini, clf__max_depth=10, clf__min_samples_leaf=2, clf__min_samples_split=6 \n"
     ]
    }
   ],
   "source": [
    "# List of pipelines for ease of iteration\n",
    "grids = [gs_rf_pca]\n",
    "\n",
    "# Dictionary of pipelines and classifier types for ease of reference\n",
    "grid_dict = {0: 'rf pca'}\n",
    "\n",
    "# Fit the grid search objects\n",
    "print('Performing model optimizations...')\n",
    "best_f1_micro = 0.0\n",
    "best_clf = 0\n",
    "best_gs = ''\n",
    "for idx, gs in enumerate(grids):\n",
    "\tprint('\\nEstimator: %s' % grid_dict[idx])\n",
    "\t# Fit grid search\n",
    "\tgs.fit(X_train, y_train)\n",
    "    \n",
    "\t# Best params\n",
    "\tprint('Best params: %s' % gs.best_params_)\n",
    "    \n",
    "\t# Best training data f1\n",
    "\tprint('Best training f1: %.3f' % gs.best_score_)\n",
    "    \n",
    "\t# Predict on test data with best params\n",
    "\ty_pred = gs.predict(X_test)\n",
    "    \n",
    "    #accuracy\n",
    "    print('test accuracy:' accuracy_score(y_train, y_pred))\n",
    "    \n",
    "\t# Test data accuracy of model with best params\n",
    "\tprint('Test set f1 score for best params: %.3f ' % f1_score(y_test, y_pred))\n",
    "    \n",
    "\t# Track best (highest test f1) model\n",
    "\tif f1_score(y_test, y_pred) > best_f1_micro:\n",
    "\t\tbest_f1_micro = f1_score(y_test, y_pred)\n",
    "\t\tbest_gs = gs\n",
    "\t\tbest_clf = idx\n",
    "print('\\nClassifier with best test set f1: %s' % grid_dict[best_clf])\n",
    "\n",
    "\n",
    "\n",
    "\n",
    "# Save best grid search pipeline to file\n",
    "# dump_file = 'best_model_no_feat_sel_extr_occ_15.pkl'\n",
    "# joblib.dump(best_gs, dump_file, compress=1)\n",
    "# print('\\nSaved %s grid search pipeline to file: %s' % (grid_dict[best_clf], dump_file))"
   ]
  },
  {
   "cell_type": "code",
   "execution_count": 32,
   "metadata": {},
   "outputs": [],
   "source": [
    "y_pred = gs.predict(X_train)"
   ]
  },
  {
   "cell_type": "code",
   "execution_count": 36,
   "metadata": {},
   "outputs": [
    {
     "data": {
      "text/plain": [
       "0.9640484275800975"
      ]
     },
     "execution_count": 36,
     "metadata": {},
     "output_type": "execute_result"
    }
   ],
   "source": [
    "accuracy_score(y_train, y_pred)"
   ]
  },
  {
   "cell_type": "code",
   "execution_count": 16,
   "metadata": {},
   "outputs": [
    {
     "ename": "TypeError",
     "evalue": "'list' object is not callable",
     "output_type": "error",
     "traceback": [
      "\u001b[0;31m---------------------------------------------------------------------------\u001b[0m",
      "\u001b[0;31mTypeError\u001b[0m                                 Traceback (most recent call last)",
      "\u001b[0;32m<ipython-input-16-d4ac57d24fa6>\u001b[0m in \u001b[0;36m<module>\u001b[0;34m()\u001b[0m\n\u001b[0;32m----> 1\u001b[0;31m \u001b[0mgs\u001b[0m\u001b[0;34m.\u001b[0m\u001b[0mscoring\u001b[0m\u001b[0;34m(\u001b[0m\u001b[0;34m)\u001b[0m\u001b[0;34m\u001b[0m\u001b[0m\n\u001b[0m",
      "\u001b[0;31mTypeError\u001b[0m: 'list' object is not callable"
     ]
    }
   ],
   "source": [
    "gs.scoring()"
   ]
  },
  {
   "cell_type": "code",
   "execution_count": null,
   "metadata": {},
   "outputs": [],
   "source": []
  },
  {
   "cell_type": "code",
   "execution_count": null,
   "metadata": {},
   "outputs": [],
   "source": []
  },
  {
   "cell_type": "code",
   "execution_count": null,
   "metadata": {},
   "outputs": [],
   "source": []
  },
  {
   "cell_type": "code",
   "execution_count": null,
   "metadata": {},
   "outputs": [],
   "source": []
  },
  {
   "cell_type": "code",
   "execution_count": null,
   "metadata": {},
   "outputs": [],
   "source": [
    "PCA\n",
    "\n",
    "\n",
    "\n",
    "\n",
    "\n",
    "\n",
    "------------------\n",
    "\n",
    "\n",
    "\n",
    "\n",
    "\n",
    "\n"
   ]
  },
  {
   "cell_type": "code",
   "execution_count": null,
   "metadata": {},
   "outputs": [],
   "source": [
    "ssh -i ~/.ssh/first_key.pem ubuntu@ec2-54-91-234-129.compute-1.amazonaws.com\n",
    "[ec2-user ~]$ git clone https://github.com/DMSaunders/capstone\n",
    "#[ec2-user ~]$ wget https://s3.amazonaws.com/galv-dsi-2018-ds/psam_p06.csv"
   ]
  }
 ],
 "metadata": {
  "kernelspec": {
   "display_name": "Python 3",
   "language": "python",
   "name": "python3"
  },
  "language_info": {
   "codemirror_mode": {
    "name": "ipython",
    "version": 3
   },
   "file_extension": ".py",
   "mimetype": "text/x-python",
   "name": "python",
   "nbconvert_exporter": "python",
   "pygments_lexer": "ipython3",
   "version": "3.6.5"
  },
  "latex_envs": {
   "LaTeX_envs_menu_present": true,
   "autoclose": true,
   "autocomplete": true,
   "bibliofile": "biblio.bib",
   "cite_by": "apalike",
   "current_citInitial": 1,
   "eqLabelWithNumbers": true,
   "eqNumInitial": 1,
   "hotkeys": {
    "equation": "Ctrl-E",
    "itemize": "Ctrl-I"
   },
   "labels_anchors": false,
   "latex_user_defs": false,
   "report_style_numbering": false,
   "user_envs_cfg": false
  },
  "varInspector": {
   "cols": {
    "lenName": 16,
    "lenType": 16,
    "lenVar": 40
   },
   "kernels_config": {
    "python": {
     "delete_cmd_postfix": "",
     "delete_cmd_prefix": "del ",
     "library": "var_list.py",
     "varRefreshCmd": "print(var_dic_list())"
    },
    "r": {
     "delete_cmd_postfix": ") ",
     "delete_cmd_prefix": "rm(",
     "library": "var_list.r",
     "varRefreshCmd": "cat(var_dic_list()) "
    }
   },
   "types_to_exclude": [
    "module",
    "function",
    "builtin_function_or_method",
    "instance",
    "_Feature"
   ],
   "window_display": false
  }
 },
 "nbformat": 4,
 "nbformat_minor": 2
}
